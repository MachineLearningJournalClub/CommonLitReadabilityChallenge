{
 "cells": [
  {
   "cell_type": "markdown",
   "id": "attached-barrel",
   "metadata": {
    "papermill": {
     "duration": 0.013787,
     "end_time": "2021-06-04T19:25:37.573571",
     "exception": false,
     "start_time": "2021-06-04T19:25:37.559784",
     "status": "completed"
    },
    "tags": []
   },
   "source": [
    "### Load Test Dataset"
   ]
  },
  {
   "cell_type": "code",
   "execution_count": 1,
   "id": "excellent-lunch",
   "metadata": {
    "execution": {
     "iopub.execute_input": "2021-06-04T19:25:37.603929Z",
     "iopub.status.busy": "2021-06-04T19:25:37.602474Z",
     "iopub.status.idle": "2021-06-04T19:25:37.788064Z",
     "shell.execute_reply": "2021-06-04T19:25:37.787158Z",
     "shell.execute_reply.started": "2021-06-04T19:19:20.584378Z"
    },
    "papermill": {
     "duration": 0.20184,
     "end_time": "2021-06-04T19:25:37.788231",
     "exception": false,
     "start_time": "2021-06-04T19:25:37.586391",
     "status": "completed"
    },
    "tags": []
   },
   "outputs": [],
   "source": [
    "import pandas as pd\n",
    "import numpy as np\n",
    "\n",
    "train = pd.read_csv('../input/augmented-train-data/aug_train_data_same_distrib.csv')\n",
    "test = pd.read_csv('../input/commonlitreadabilityprize/test.csv')"
   ]
  },
  {
   "cell_type": "markdown",
   "id": "otherwise-private",
   "metadata": {
    "papermill": {
     "duration": 0.012835,
     "end_time": "2021-06-04T19:25:37.814290",
     "exception": false,
     "start_time": "2021-06-04T19:25:37.801455",
     "status": "completed"
    },
    "tags": []
   },
   "source": [
    "### Import Dependencies"
   ]
  },
  {
   "cell_type": "code",
   "execution_count": 2,
   "id": "least-census",
   "metadata": {
    "execution": {
     "iopub.execute_input": "2021-06-04T19:25:37.847337Z",
     "iopub.status.busy": "2021-06-04T19:25:37.846624Z",
     "iopub.status.idle": "2021-06-04T19:25:37.849288Z",
     "shell.execute_reply": "2021-06-04T19:25:37.848884Z",
     "shell.execute_reply.started": "2021-06-04T19:19:24.744893Z"
    },
    "papermill": {
     "duration": 0.02148,
     "end_time": "2021-06-04T19:25:37.849401",
     "exception": false,
     "start_time": "2021-06-04T19:25:37.827921",
     "status": "completed"
    },
    "tags": []
   },
   "outputs": [],
   "source": [
    "%matplotlib inline\n",
    "from glob import glob\n",
    "import os\n",
    "import matplotlib.pyplot as plt\n",
    "import json\n",
    "from collections import defaultdict\n",
    "import gc\n",
    "gc.enable()"
   ]
  },
  {
   "cell_type": "code",
   "execution_count": 3,
   "id": "combined-subcommittee",
   "metadata": {
    "execution": {
     "iopub.execute_input": "2021-06-04T19:25:37.880235Z",
     "iopub.status.busy": "2021-06-04T19:25:37.879576Z",
     "iopub.status.idle": "2021-06-04T19:25:44.747740Z",
     "shell.execute_reply": "2021-06-04T19:25:44.747283Z",
     "shell.execute_reply.started": "2021-06-04T19:20:30.583678Z"
    },
    "papermill": {
     "duration": 6.885651,
     "end_time": "2021-06-04T19:25:44.747867",
     "exception": false,
     "start_time": "2021-06-04T19:25:37.862216",
     "status": "completed"
    },
    "tags": []
   },
   "outputs": [],
   "source": [
    "import torch\n",
    "import torch.nn as nn\n",
    "import torch.nn.functional as F\n",
    "import torch.optim as optim\n",
    "from torch.optim.optimizer import Optimizer\n",
    "import torch.optim.lr_scheduler as lr_scheduler\n",
    "from torch.utils.data import (\n",
    "    Dataset, DataLoader, \n",
    "    SequentialSampler, RandomSampler\n",
    ")\n",
    "from transformers import RobertaConfig\n",
    "from transformers import (\n",
    "    get_cosine_schedule_with_warmup, \n",
    "    get_cosine_with_hard_restarts_schedule_with_warmup\n",
    ")\n",
    "from transformers import RobertaTokenizer\n",
    "from transformers import RobertaModel\n",
    "from IPython.display import clear_output\n",
    "from tqdm import tqdm, trange"
   ]
  },
  {
   "cell_type": "markdown",
   "id": "changing-background",
   "metadata": {
    "papermill": {
     "duration": 0.012407,
     "end_time": "2021-06-04T19:25:44.773407",
     "exception": false,
     "start_time": "2021-06-04T19:25:44.761000",
     "status": "completed"
    },
    "tags": []
   },
   "source": [
    "### Convert Examples `(Excerpt)` to Features"
   ]
  },
  {
   "cell_type": "code",
   "execution_count": 4,
   "id": "timely-huntington",
   "metadata": {
    "execution": {
     "iopub.execute_input": "2021-06-04T19:25:44.805585Z",
     "iopub.status.busy": "2021-06-04T19:25:44.804328Z",
     "iopub.status.idle": "2021-06-04T19:25:44.807231Z",
     "shell.execute_reply": "2021-06-04T19:25:44.806745Z",
     "shell.execute_reply.started": "2021-06-04T19:20:31.154525Z"
    },
    "papermill": {
     "duration": 0.021228,
     "end_time": "2021-06-04T19:25:44.807333",
     "exception": false,
     "start_time": "2021-06-04T19:25:44.786105",
     "status": "completed"
    },
    "tags": []
   },
   "outputs": [],
   "source": [
    "def convert_examples_to_features(data, tokenizer, max_len, is_test=False):\n",
    "    data = data.replace('\\n', '')\n",
    "    tok = tokenizer.encode_plus(\n",
    "        data, \n",
    "        max_length=max_len, \n",
    "        truncation=True,\n",
    "        return_attention_mask=True,\n",
    "        return_token_type_ids=True\n",
    "    )\n",
    "    curr_sent = {}\n",
    "    padding_length = max_len - len(tok['input_ids'])\n",
    "    curr_sent['input_ids'] = tok['input_ids'] + ([0] * padding_length)\n",
    "    curr_sent['token_type_ids'] = tok['token_type_ids'] + \\\n",
    "        ([0] * padding_length)\n",
    "    curr_sent['attention_mask'] = tok['attention_mask'] + \\\n",
    "        ([0] * padding_length)\n",
    "    return curr_sent"
   ]
  },
  {
   "cell_type": "markdown",
   "id": "functional-cliff",
   "metadata": {
    "papermill": {
     "duration": 0.012594,
     "end_time": "2021-06-04T19:25:44.832560",
     "exception": false,
     "start_time": "2021-06-04T19:25:44.819966",
     "status": "completed"
    },
    "tags": []
   },
   "source": [
    "### Dataset Retriever"
   ]
  },
  {
   "cell_type": "code",
   "execution_count": 5,
   "id": "saved-satellite",
   "metadata": {
    "execution": {
     "iopub.execute_input": "2021-06-04T19:25:44.868049Z",
     "iopub.status.busy": "2021-06-04T19:25:44.866868Z",
     "iopub.status.idle": "2021-06-04T19:25:44.869517Z",
     "shell.execute_reply": "2021-06-04T19:25:44.869108Z",
     "shell.execute_reply.started": "2021-06-04T19:20:31.331011Z"
    },
    "papermill": {
     "duration": 0.02429,
     "end_time": "2021-06-04T19:25:44.869630",
     "exception": false,
     "start_time": "2021-06-04T19:25:44.845340",
     "status": "completed"
    },
    "tags": []
   },
   "outputs": [],
   "source": [
    "class DatasetRetriever(Dataset):\n",
    "    def __init__(self, data, tokenizer, max_len, is_test=False):\n",
    "        self.data = data\n",
    "        self.excerpts = self.data.excerpt.values.tolist()\n",
    "        self.tokenizer = tokenizer\n",
    "        self.is_test = is_test\n",
    "        self.max_len = max_len\n",
    "    \n",
    "    def __len__(self):\n",
    "        return len(self.data)\n",
    "    \n",
    "    def __getitem__(self, item):\n",
    "        if not self.is_test:\n",
    "            excerpt, label = self.excerpts[item], self.targets[item]\n",
    "            features = convert_examples_to_features(\n",
    "                excerpt, self.tokenizer, \n",
    "                self.max_len, self.is_test\n",
    "            )\n",
    "            return {\n",
    "                'input_ids':torch.tensor(features['input_ids'], dtype=torch.long),\n",
    "                'token_type_ids':torch.tensor(features['token_type_ids'], dtype=torch.long),\n",
    "                'attention_mask':torch.tensor(features['attention_mask'], dtype=torch.long),\n",
    "                'label':torch.tensor(label, dtype=torch.double),\n",
    "            }\n",
    "        else:\n",
    "            excerpt = self.excerpts[item]\n",
    "            features = convert_examples_to_features(\n",
    "                excerpt, self.tokenizer, \n",
    "                self.max_len, self.is_test\n",
    "            )\n",
    "            return {\n",
    "                'input_ids':torch.tensor(features['input_ids'], dtype=torch.long),\n",
    "                'token_type_ids':torch.tensor(features['token_type_ids'], dtype=torch.long),\n",
    "                'attention_mask':torch.tensor(features['attention_mask'], dtype=torch.long),\n",
    "            }"
   ]
  },
  {
   "cell_type": "markdown",
   "id": "computational-covering",
   "metadata": {
    "papermill": {
     "duration": 0.012362,
     "end_time": "2021-06-04T19:25:44.894647",
     "exception": false,
     "start_time": "2021-06-04T19:25:44.882285",
     "status": "completed"
    },
    "tags": []
   },
   "source": [
    "### Model"
   ]
  },
  {
   "cell_type": "code",
   "execution_count": 6,
   "id": "based-conservative",
   "metadata": {
    "execution": {
     "iopub.execute_input": "2021-06-04T19:25:44.933027Z",
     "iopub.status.busy": "2021-06-04T19:25:44.932506Z",
     "iopub.status.idle": "2021-06-04T19:25:44.936187Z",
     "shell.execute_reply": "2021-06-04T19:25:44.935759Z",
     "shell.execute_reply.started": "2021-06-04T19:20:31.511987Z"
    },
    "papermill": {
     "duration": 0.028912,
     "end_time": "2021-06-04T19:25:44.936289",
     "exception": false,
     "start_time": "2021-06-04T19:25:44.907377",
     "status": "completed"
    },
    "tags": []
   },
   "outputs": [],
   "source": [
    "class CommonLitModel(nn.Module):\n",
    "    def __init__(\n",
    "        self, \n",
    "        model_name, \n",
    "        config,  \n",
    "        multisample_dropout=False,\n",
    "        output_hidden_states=False\n",
    "    ):\n",
    "        super(CommonLitModel, self).__init__()\n",
    "        self.config = config\n",
    "        self.roberta = RobertaModel.from_pretrained(\n",
    "            model_name, \n",
    "            output_hidden_states=output_hidden_states\n",
    "        )\n",
    "        self.layer_norm = nn.LayerNorm(config.hidden_size)\n",
    "        if multisample_dropout:\n",
    "            self.dropouts = nn.ModuleList([\n",
    "                nn.Dropout(0.5) for _ in range(5)\n",
    "            ])\n",
    "        else:\n",
    "            self.dropouts = nn.ModuleList([nn.Dropout(0.3)])\n",
    "        self.regressor = nn.Linear(config.hidden_size, 1)\n",
    "        self._init_weights(self.layer_norm)\n",
    "        self._init_weights(self.regressor)\n",
    " \n",
    "    def _init_weights(self, module):\n",
    "        if isinstance(module, nn.Linear):\n",
    "            module.weight.data.normal_(mean=0.0, std=self.config.initializer_range)\n",
    "            if module.bias is not None:\n",
    "                module.bias.data.zero_()\n",
    "        elif isinstance(module, nn.Embedding):\n",
    "            module.weight.data.normal_(mean=0.0, std=self.config.initializer_range)\n",
    "            if module.padding_idx is not None:\n",
    "                module.weight.data[module.padding_idx].zero_()\n",
    "        elif isinstance(module, nn.LayerNorm):\n",
    "            module.bias.data.zero_()\n",
    "            module.weight.data.fill_(1.0)\n",
    " \n",
    "    def forward(\n",
    "        self, \n",
    "        input_ids=None,\n",
    "        attention_mask=None,\n",
    "        token_type_ids=None,\n",
    "        labels=None\n",
    "    ):\n",
    "        outputs = self.roberta(\n",
    "            input_ids,\n",
    "            attention_mask=attention_mask,\n",
    "            token_type_ids=token_type_ids,\n",
    "        )\n",
    "        sequence_output = outputs[1]\n",
    "        sequence_output = self.layer_norm(sequence_output)\n",
    " \n",
    "        # multi-sample dropout\n",
    "        for i, dropout in enumerate(self.dropouts):\n",
    "            if i == 0:\n",
    "                logits = self.regressor(dropout(sequence_output))\n",
    "            else:\n",
    "                logits += self.regressor(dropout(sequence_output))\n",
    "        \n",
    "        logits /= len(self.dropouts)\n",
    " \n",
    "        # calculate loss\n",
    "        loss = None\n",
    "        if labels is not None:\n",
    "            loss_fn = torch.nn.MSELoss()\n",
    "            logits = logits.view(-1).to(labels.dtype)\n",
    "            loss = torch.sqrt(loss_fn(logits, labels.view(-1)))\n",
    "        \n",
    "        output = (logits,) + outputs[1:]\n",
    "        return ((loss,) + output) if loss is not None else output"
   ]
  },
  {
   "cell_type": "markdown",
   "id": "hawaiian-blind",
   "metadata": {
    "papermill": {
     "duration": 0.012604,
     "end_time": "2021-06-04T19:25:44.961715",
     "exception": false,
     "start_time": "2021-06-04T19:25:44.949111",
     "status": "completed"
    },
    "tags": []
   },
   "source": [
    "### Utils"
   ]
  },
  {
   "cell_type": "code",
   "execution_count": 7,
   "id": "structural-height",
   "metadata": {
    "execution": {
     "iopub.execute_input": "2021-06-04T19:25:44.993819Z",
     "iopub.status.busy": "2021-06-04T19:25:44.993219Z",
     "iopub.status.idle": "2021-06-04T19:25:44.996407Z",
     "shell.execute_reply": "2021-06-04T19:25:44.995969Z",
     "shell.execute_reply.started": "2021-06-04T19:20:31.657248Z"
    },
    "papermill": {
     "duration": 0.022081,
     "end_time": "2021-06-04T19:25:44.996509",
     "exception": false,
     "start_time": "2021-06-04T19:25:44.974428",
     "status": "completed"
    },
    "tags": []
   },
   "outputs": [],
   "source": [
    "def make_model(model_name='roberta-base', num_labels=1):\n",
    "    tokenizer = RobertaTokenizer.from_pretrained(model_name)\n",
    "    config = RobertaConfig.from_pretrained(model_name)\n",
    "    config.update({'num_labels':num_labels})\n",
    "    model = CommonLitModel(model_name, config=config)\n",
    "    return model, tokenizer\n",
    "\n",
    "def make_loader(\n",
    "    data, \n",
    "    tokenizer, \n",
    "    max_len,\n",
    "    batch_size,\n",
    "):\n",
    "    \n",
    "    test_dataset = DatasetRetriever(data, tokenizer, max_len, is_test=True)\n",
    "    test_sampler = SequentialSampler(test_dataset)\n",
    "    test_loader = DataLoader(\n",
    "        test_dataset, \n",
    "        batch_size=batch_size // 2, \n",
    "        sampler=test_sampler, \n",
    "        pin_memory=False, \n",
    "        drop_last=False, \n",
    "        num_workers=0\n",
    "    )\n",
    "\n",
    "    return test_loader"
   ]
  },
  {
   "cell_type": "markdown",
   "id": "mysterious-italic",
   "metadata": {
    "papermill": {
     "duration": 0.012674,
     "end_time": "2021-06-04T19:25:45.022079",
     "exception": false,
     "start_time": "2021-06-04T19:25:45.009405",
     "status": "completed"
    },
    "tags": []
   },
   "source": [
    "### Evaluator"
   ]
  },
  {
   "cell_type": "code",
   "execution_count": 8,
   "id": "broken-helen",
   "metadata": {
    "execution": {
     "iopub.execute_input": "2021-06-04T19:25:45.055717Z",
     "iopub.status.busy": "2021-06-04T19:25:45.055082Z",
     "iopub.status.idle": "2021-06-04T19:25:45.057842Z",
     "shell.execute_reply": "2021-06-04T19:25:45.058226Z",
     "shell.execute_reply.started": "2021-06-04T19:20:31.832960Z"
    },
    "papermill": {
     "duration": 0.023284,
     "end_time": "2021-06-04T19:25:45.058344",
     "exception": false,
     "start_time": "2021-06-04T19:25:45.035060",
     "status": "completed"
    },
    "tags": []
   },
   "outputs": [],
   "source": [
    "class Evaluator:\n",
    "    def __init__(self, model, scalar=None):\n",
    "        self.model = model\n",
    "        self.scalar = scalar\n",
    "\n",
    "    def evaluate(self, data_loader, tokenizer):\n",
    "        preds = []\n",
    "        self.model.eval()\n",
    "        total_loss = 0\n",
    "        with torch.no_grad():\n",
    "            for batch_idx, batch_data in enumerate(data_loader):\n",
    "                input_ids, attention_mask, token_type_ids = batch_data['input_ids'], \\\n",
    "                    batch_data['attention_mask'], batch_data['token_type_ids']\n",
    "                input_ids, attention_mask, token_type_ids = input_ids.cuda(), \\\n",
    "                    attention_mask.cuda(), token_type_ids.cuda()\n",
    "                \n",
    "                if self.scalar is not None:\n",
    "                    with torch.cuda.amp.autocast():\n",
    "                        outputs = self.model(\n",
    "                            input_ids=input_ids,\n",
    "                            attention_mask=attention_mask,\n",
    "                            token_type_ids=token_type_ids\n",
    "                        )\n",
    "                else:\n",
    "                    outputs = self.model(\n",
    "                        input_ids=input_ids,\n",
    "                        attention_mask=attention_mask,\n",
    "                        token_type_ids=token_type_ids\n",
    "                    )\n",
    "                \n",
    "                logits = outputs[0].detach().cpu().numpy().squeeze().tolist()\n",
    "                preds += logits\n",
    "        return preds"
   ]
  },
  {
   "cell_type": "markdown",
   "id": "gentle-asian",
   "metadata": {
    "papermill": {
     "duration": 0.012551,
     "end_time": "2021-06-04T19:25:45.083566",
     "exception": false,
     "start_time": "2021-06-04T19:25:45.071015",
     "status": "completed"
    },
    "tags": []
   },
   "source": [
    "### Config"
   ]
  },
  {
   "cell_type": "code",
   "execution_count": 9,
   "id": "sweet-plasma",
   "metadata": {
    "execution": {
     "iopub.execute_input": "2021-06-04T19:25:45.117091Z",
     "iopub.status.busy": "2021-06-04T19:25:45.115856Z",
     "iopub.status.idle": "2021-06-04T19:25:45.118219Z",
     "shell.execute_reply": "2021-06-04T19:25:45.118619Z",
     "shell.execute_reply.started": "2021-06-04T19:23:34.077799Z"
    },
    "papermill": {
     "duration": 0.022431,
     "end_time": "2021-06-04T19:25:45.118734",
     "exception": false,
     "start_time": "2021-06-04T19:25:45.096303",
     "status": "completed"
    },
    "tags": []
   },
   "outputs": [],
   "source": [
    " def config(fold):\n",
    "    torch.manual_seed(2021)\n",
    "    torch.cuda.manual_seed(2021)\n",
    "    torch.cuda.manual_seed_all(2021)\n",
    "    \n",
    "    max_len = 250\n",
    "    batch_size = 8\n",
    "\n",
    "    model, tokenizer = make_model(\n",
    "        model_name='../input/roberta/roberta-base/roberta-base/', \n",
    "        num_labels=1\n",
    "    )\n",
    "    model.load_state_dict(\n",
    "        torch.load(f'../input/robertaft/model{fold}.bin')\n",
    "    )\n",
    "    test_loader = make_loader(\n",
    "        test, tokenizer, max_len=max_len,\n",
    "        batch_size=batch_size\n",
    "    )\n",
    "\n",
    "    if torch.cuda.device_count() >= 1:\n",
    "        print('Model pushed to {} GPU(s), type {}.'.format(\n",
    "            torch.cuda.device_count(), \n",
    "            torch.cuda.get_device_name(0))\n",
    "        )\n",
    "        model = model.cuda() \n",
    "    else:\n",
    "        raise ValueError('CPU training is not supported')\n",
    "\n",
    "    # scaler = torch.cuda.amp.GradScaler()\n",
    "    scaler = None\n",
    "    return (\n",
    "        model, tokenizer, \n",
    "        test_loader, scaler\n",
    "    )"
   ]
  },
  {
   "cell_type": "markdown",
   "id": "basic-boulder",
   "metadata": {
    "papermill": {
     "duration": 0.012781,
     "end_time": "2021-06-04T19:25:45.144630",
     "exception": false,
     "start_time": "2021-06-04T19:25:45.131849",
     "status": "completed"
    },
    "tags": []
   },
   "source": [
    "### Run"
   ]
  },
  {
   "cell_type": "code",
   "execution_count": 10,
   "id": "declared-vulnerability",
   "metadata": {
    "execution": {
     "iopub.execute_input": "2021-06-04T19:25:45.175629Z",
     "iopub.status.busy": "2021-06-04T19:25:45.174932Z",
     "iopub.status.idle": "2021-06-04T19:25:45.177887Z",
     "shell.execute_reply": "2021-06-04T19:25:45.178267Z",
     "shell.execute_reply.started": "2021-06-04T19:23:34.778577Z"
    },
    "papermill": {
     "duration": 0.021109,
     "end_time": "2021-06-04T19:25:45.178386",
     "exception": false,
     "start_time": "2021-06-04T19:25:45.157277",
     "status": "completed"
    },
    "tags": []
   },
   "outputs": [],
   "source": [
    "def run(fold=0):\n",
    "    model, tokenizer, \\\n",
    "        test_loader, scaler = config(fold)\n",
    "    \n",
    "    import time\n",
    "\n",
    "    evaluator = Evaluator(model, scaler)\n",
    "\n",
    "    test_time_list = []\n",
    "\n",
    "    torch.cuda.synchronize()\n",
    "    tic1 = time.time()\n",
    "\n",
    "    preds = evaluator.evaluate(test_loader, tokenizer)\n",
    "\n",
    "    torch.cuda.synchronize()\n",
    "    tic2 = time.time() \n",
    "    test_time_list.append(tic2 - tic1)\n",
    "    \n",
    "    del model, tokenizer, test_loader, scaler\n",
    "    gc.collect()\n",
    "    torch.cuda.empty_cache()\n",
    "    \n",
    "    return preds"
   ]
  },
  {
   "cell_type": "code",
   "execution_count": 11,
   "id": "assumed-native",
   "metadata": {
    "execution": {
     "iopub.execute_input": "2021-06-04T19:25:45.207871Z",
     "iopub.status.busy": "2021-06-04T19:25:45.207404Z",
     "iopub.status.idle": "2021-06-04T19:26:40.409485Z",
     "shell.execute_reply": "2021-06-04T19:26:40.408904Z",
     "shell.execute_reply.started": "2021-06-04T19:23:35.229419Z"
    },
    "papermill": {
     "duration": 55.2186,
     "end_time": "2021-06-04T19:26:40.409650",
     "exception": false,
     "start_time": "2021-06-04T19:25:45.191050",
     "status": "completed"
    },
    "tags": []
   },
   "outputs": [
    {
     "name": "stderr",
     "output_type": "stream",
     "text": [
      "  0%|          | 0/5 [00:00<?, ?it/s]"
     ]
    },
    {
     "name": "stdout",
     "output_type": "stream",
     "text": [
      "Model pushed to 1 GPU(s), type Tesla P100-PCIE-16GB.\n"
     ]
    },
    {
     "name": "stderr",
     "output_type": "stream",
     "text": [
      " 20%|██        | 1/5 [00:22<01:31, 22.98s/it]"
     ]
    },
    {
     "name": "stdout",
     "output_type": "stream",
     "text": [
      "Model pushed to 1 GPU(s), type Tesla P100-PCIE-16GB.\n"
     ]
    },
    {
     "name": "stderr",
     "output_type": "stream",
     "text": [
      " 40%|████      | 2/5 [00:31<00:43, 14.41s/it]"
     ]
    },
    {
     "name": "stdout",
     "output_type": "stream",
     "text": [
      "Model pushed to 1 GPU(s), type Tesla P100-PCIE-16GB.\n"
     ]
    },
    {
     "name": "stderr",
     "output_type": "stream",
     "text": [
      " 60%|██████    | 3/5 [00:39<00:23, 11.54s/it]"
     ]
    },
    {
     "name": "stdout",
     "output_type": "stream",
     "text": [
      "Model pushed to 1 GPU(s), type Tesla P100-PCIE-16GB.\n"
     ]
    },
    {
     "name": "stderr",
     "output_type": "stream",
     "text": [
      " 80%|████████  | 4/5 [00:47<00:10, 10.08s/it]"
     ]
    },
    {
     "name": "stdout",
     "output_type": "stream",
     "text": [
      "Model pushed to 1 GPU(s), type Tesla P100-PCIE-16GB.\n"
     ]
    },
    {
     "name": "stderr",
     "output_type": "stream",
     "text": [
      "100%|██████████| 5/5 [00:55<00:00, 11.04s/it]\n"
     ]
    }
   ],
   "source": [
    "pred_df = pd.DataFrame()\n",
    "for fold in tqdm(range(5)):\n",
    "    pred_df[f'fold{fold}'] = run(fold)"
   ]
  },
  {
   "cell_type": "markdown",
   "id": "pursuant-novelty",
   "metadata": {
    "papermill": {
     "duration": 0.015804,
     "end_time": "2021-06-04T19:26:40.442048",
     "exception": false,
     "start_time": "2021-06-04T19:26:40.426244",
     "status": "completed"
    },
    "tags": []
   },
   "source": [
    "### Make Submission"
   ]
  },
  {
   "cell_type": "code",
   "execution_count": 12,
   "id": "classical-location",
   "metadata": {
    "execution": {
     "iopub.execute_input": "2021-06-04T19:26:40.480465Z",
     "iopub.status.busy": "2021-06-04T19:26:40.479923Z",
     "iopub.status.idle": "2021-06-04T19:26:40.613631Z",
     "shell.execute_reply": "2021-06-04T19:26:40.613032Z",
     "shell.execute_reply.started": "2021-06-04T19:24:35.877736Z"
    },
    "papermill": {
     "duration": 0.155888,
     "end_time": "2021-06-04T19:26:40.613751",
     "exception": false,
     "start_time": "2021-06-04T19:26:40.457863",
     "status": "completed"
    },
    "tags": []
   },
   "outputs": [],
   "source": [
    "sub = pd.read_csv('../input/commonlitreadabilityprize/sample_submission.csv')\n",
    "sub['target'] = pred_df.mean(axis=1).values.tolist()\n",
    "sub.to_csv('submission.csv', index=False)"
   ]
  }
 ],
 "metadata": {
  "kernelspec": {
   "display_name": "Python 3",
   "language": "python",
   "name": "python3"
  },
  "language_info": {
   "codemirror_mode": {
    "name": "ipython",
    "version": 3
   },
   "file_extension": ".py",
   "mimetype": "text/x-python",
   "name": "python",
   "nbconvert_exporter": "python",
   "pygments_lexer": "ipython3",
   "version": "3.7.10"
  },
  "papermill": {
   "default_parameters": {},
   "duration": 71.708811,
   "end_time": "2021-06-04T19:26:42.700459",
   "environment_variables": {},
   "exception": null,
   "input_path": "__notebook__.ipynb",
   "output_path": "__notebook__.ipynb",
   "parameters": {},
   "start_time": "2021-06-04T19:25:30.991648",
   "version": "2.3.3"
  }
 },
 "nbformat": 4,
 "nbformat_minor": 5
}
