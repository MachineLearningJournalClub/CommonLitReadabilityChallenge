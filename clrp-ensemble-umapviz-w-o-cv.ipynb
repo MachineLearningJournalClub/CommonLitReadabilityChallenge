{
 "cells": [
  {
   "cell_type": "code",
   "execution_count": 1,
   "id": "tracked-sight",
   "metadata": {
    "_cell_guid": "b1076dfc-b9ad-4769-8c92-a6c4dae69d19",
    "_kg_hide-input": true,
    "_uuid": "8f2839f25d086af736a60e9eeb907d3b93b6e0e5",
    "execution": {
     "iopub.execute_input": "2021-06-17T01:07:42.943660Z",
     "iopub.status.busy": "2021-06-17T01:07:42.943129Z",
     "iopub.status.idle": "2021-06-17T01:07:49.313768Z",
     "shell.execute_reply": "2021-06-17T01:07:49.312722Z",
     "shell.execute_reply.started": "2021-06-17T00:58:08.787481Z"
    },
    "papermill": {
     "duration": 6.405916,
     "end_time": "2021-06-17T01:07:49.313945",
     "exception": false,
     "start_time": "2021-06-17T01:07:42.908029",
     "status": "completed"
    },
    "tags": []
   },
   "outputs": [],
   "source": [
    "import os\n",
    "import gc\n",
    "import sys\n",
    "import cv2\n",
    "import math\n",
    "import time\n",
    "import tqdm\n",
    "import random\n",
    "import numpy as np\n",
    "import pandas as pd\n",
    "import seaborn as sns\n",
    "from tqdm import tqdm\n",
    "import matplotlib.pyplot as plt\n",
    "\n",
    "import warnings\n",
    "warnings.filterwarnings('ignore')\n",
    "\n",
    "from sklearn.svm import SVR\n",
    "\n",
    "from sklearn.metrics import mean_squared_error\n",
    "from sklearn.model_selection import KFold,StratifiedKFold\n",
    "\n",
    "import torch\n",
    "import torchvision\n",
    "import torch.nn as nn\n",
    "import torch.optim as optim\n",
    "import torch.nn.functional as F\n",
    "from torch.optim import Adam, lr_scheduler\n",
    "from torch.utils.data import Dataset, DataLoader\n",
    "\n",
    "from transformers import (AutoModel, AutoTokenizer, \n",
    "                          AutoModelForSequenceClassification)\n",
    "\n",
    "import plotly.express as px\n",
    "import plotly.graph_objs as go\n",
    "import plotly.figure_factory as ff\n",
    "\n",
    "\n",
    "from colorama import Fore, Back, Style\n",
    "y_ = Fore.YELLOW\n",
    "r_ = Fore.RED\n",
    "g_ = Fore.GREEN\n",
    "b_ = Fore.BLUE\n",
    "m_ = Fore.MAGENTA\n",
    "c_ = Fore.CYAN\n",
    "sr_ = Style.RESET_ALL"
   ]
  },
  {
   "cell_type": "code",
   "execution_count": 2,
   "id": "harmful-nickname",
   "metadata": {
    "execution": {
     "iopub.execute_input": "2021-06-17T01:07:49.365593Z",
     "iopub.status.busy": "2021-06-17T01:07:49.364976Z",
     "iopub.status.idle": "2021-06-17T01:07:49.449363Z",
     "shell.execute_reply": "2021-06-17T01:07:49.448900Z",
     "shell.execute_reply.started": "2021-06-17T00:58:15.175499Z"
    },
    "papermill": {
     "duration": 0.113788,
     "end_time": "2021-06-17T01:07:49.449479",
     "exception": false,
     "start_time": "2021-06-17T01:07:49.335691",
     "status": "completed"
    },
    "tags": []
   },
   "outputs": [],
   "source": [
    "train_data = pd.read_csv('../input/commonlitreadabilityprize/train.csv')\n",
    "test_data = pd.read_csv('../input/commonlitreadabilityprize/test.csv')\n",
    "sample = pd.read_csv('../input/commonlitreadabilityprize/sample_submission.csv')\n",
    "\n",
    "num_bins = 10 #int(np.floor(1 + np.log2(len(train_data))))\n",
    "train_data.loc[:,'bins'] = pd.cut(train_data['target'],bins=num_bins,labels=False)\n",
    "\n",
    "target = train_data['target'].to_numpy()\n",
    "bins = train_data.bins.to_numpy()\n",
    "\n",
    "def rmse_score(y_true,y_pred):\n",
    "    return np.sqrt(mean_squared_error(y_true,y_pred))"
   ]
  },
  {
   "cell_type": "code",
   "execution_count": 3,
   "id": "received-reader",
   "metadata": {
    "execution": {
     "iopub.execute_input": "2021-06-17T01:07:49.497517Z",
     "iopub.status.busy": "2021-06-17T01:07:49.496892Z",
     "iopub.status.idle": "2021-06-17T01:07:49.502857Z",
     "shell.execute_reply": "2021-06-17T01:07:49.502342Z",
     "shell.execute_reply.started": "2021-06-17T00:58:15.930359Z"
    },
    "papermill": {
     "duration": 0.032147,
     "end_time": "2021-06-17T01:07:49.502962",
     "exception": false,
     "start_time": "2021-06-17T01:07:49.470815",
     "status": "completed"
    },
    "tags": []
   },
   "outputs": [],
   "source": [
    "config = {\n",
    "    'batch_size':128,\n",
    "    'max_len':256,\n",
    "    'nfolds':5,\n",
    "    'seed':42,\n",
    "}\n",
    "\n",
    "def seed_everything(seed=42):\n",
    "    random.seed(seed)\n",
    "    os.environ['PYTHONASSEED'] = str(seed)\n",
    "    np.random.seed(seed)\n",
    "    torch.manual_seed(seed)\n",
    "    torch.cuda.manual_seed(seed)\n",
    "    torch.backends.cudnn.deterministic = True\n",
    "    torch.backends.cudnn.benchmark = True\n",
    "\n",
    "seed_everything(seed=config['seed'])"
   ]
  },
  {
   "cell_type": "code",
   "execution_count": 4,
   "id": "caring-asset",
   "metadata": {
    "execution": {
     "iopub.execute_input": "2021-06-17T01:07:49.550575Z",
     "iopub.status.busy": "2021-06-17T01:07:49.549848Z",
     "iopub.status.idle": "2021-06-17T01:07:49.552097Z",
     "shell.execute_reply": "2021-06-17T01:07:49.552616Z",
     "shell.execute_reply.started": "2021-06-17T00:58:16.466893Z"
    },
    "papermill": {
     "duration": 0.028665,
     "end_time": "2021-06-17T01:07:49.552749",
     "exception": false,
     "start_time": "2021-06-17T01:07:49.524084",
     "status": "completed"
    },
    "tags": []
   },
   "outputs": [],
   "source": [
    "class CLRPDataset(Dataset):\n",
    "    def __init__(self,df,tokenizer):\n",
    "        self.excerpt = df['excerpt'].to_numpy()\n",
    "        self.tokenizer = tokenizer\n",
    "    \n",
    "    def __getitem__(self,idx):\n",
    "        encode = self.tokenizer(self.excerpt[idx],return_tensors='pt',\n",
    "                                max_length=config['max_len'],\n",
    "                                padding='max_length',truncation=True)\n",
    "        return encode\n",
    "    \n",
    "    def __len__(self):\n",
    "        return len(self.excerpt)"
   ]
  },
  {
   "cell_type": "code",
   "execution_count": 5,
   "id": "specific-prescription",
   "metadata": {
    "execution": {
     "iopub.execute_input": "2021-06-17T01:07:49.600391Z",
     "iopub.status.busy": "2021-06-17T01:07:49.599675Z",
     "iopub.status.idle": "2021-06-17T01:07:49.601741Z",
     "shell.execute_reply": "2021-06-17T01:07:49.602157Z",
     "shell.execute_reply.started": "2021-06-17T00:58:16.694976Z"
    },
    "papermill": {
     "duration": 0.028729,
     "end_time": "2021-06-17T01:07:49.602265",
     "exception": false,
     "start_time": "2021-06-17T01:07:49.573536",
     "status": "completed"
    },
    "tags": []
   },
   "outputs": [],
   "source": [
    "class AttentionHead(nn.Module):\n",
    "    def __init__(self, in_features, hidden_dim, num_targets):\n",
    "        super().__init__()\n",
    "        self.in_features = in_features\n",
    "        self.middle_features = hidden_dim\n",
    "\n",
    "        self.W = nn.Linear(in_features, hidden_dim)\n",
    "        self.V = nn.Linear(hidden_dim, 1)\n",
    "        self.out_features = hidden_dim\n",
    "\n",
    "    def forward(self, features):\n",
    "        att = torch.tanh(self.W(features))\n",
    "\n",
    "        score = self.V(att)\n",
    "\n",
    "        attention_weights = torch.softmax(score, dim=1)\n",
    "\n",
    "        context_vector = attention_weights * features\n",
    "        context_vector = torch.sum(context_vector, dim=1)\n",
    "\n",
    "        return context_vector"
   ]
  },
  {
   "cell_type": "code",
   "execution_count": 6,
   "id": "satellite-philadelphia",
   "metadata": {
    "execution": {
     "iopub.execute_input": "2021-06-17T01:07:49.650067Z",
     "iopub.status.busy": "2021-06-17T01:07:49.649352Z",
     "iopub.status.idle": "2021-06-17T01:07:49.652096Z",
     "shell.execute_reply": "2021-06-17T01:07:49.651574Z",
     "shell.execute_reply.started": "2021-06-17T00:58:16.940071Z"
    },
    "papermill": {
     "duration": 0.028424,
     "end_time": "2021-06-17T01:07:49.652209",
     "exception": false,
     "start_time": "2021-06-17T01:07:49.623785",
     "status": "completed"
    },
    "tags": []
   },
   "outputs": [],
   "source": [
    "class Model(nn.Module):\n",
    "    def __init__(self):\n",
    "        super(Model,self).__init__()\n",
    "        self.roberta = AutoModel.from_pretrained('../input/roberta-base')    \n",
    "        self.head = AttentionHead(768,768,1)\n",
    "        self.dropout = nn.Dropout(0.1)\n",
    "        self.linear = nn.Linear(self.head.out_features,1)\n",
    "\n",
    "    def forward(self,**xb):\n",
    "        x = self.roberta(**xb)[0]\n",
    "        x = self.head(x)\n",
    "        return x"
   ]
  },
  {
   "cell_type": "code",
   "execution_count": 7,
   "id": "nuclear-miller",
   "metadata": {
    "execution": {
     "iopub.execute_input": "2021-06-17T01:07:49.701715Z",
     "iopub.status.busy": "2021-06-17T01:07:49.701019Z",
     "iopub.status.idle": "2021-06-17T01:07:49.703586Z",
     "shell.execute_reply": "2021-06-17T01:07:49.703172Z",
     "shell.execute_reply.started": "2021-06-17T00:58:17.289833Z"
    },
    "papermill": {
     "duration": 0.030369,
     "end_time": "2021-06-17T01:07:49.703682",
     "exception": false,
     "start_time": "2021-06-17T01:07:49.673313",
     "status": "completed"
    },
    "tags": []
   },
   "outputs": [],
   "source": [
    "def get_embeddings(df,path,plot_losses=True, verbose=True):\n",
    "    device = torch.device(\"cuda\" if torch.cuda.is_available() else \"cpu\")\n",
    "    print(f\"{device} is used\")\n",
    "            \n",
    "    model = Model()\n",
    "    model.load_state_dict(torch.load(path))\n",
    "    model.to(device)\n",
    "    model.eval()\n",
    "    \n",
    "    tokenizer = AutoTokenizer.from_pretrained('../input/roberta-base')\n",
    "    \n",
    "    ds = CLRPDataset(df,tokenizer)\n",
    "    dl = DataLoader(ds,\n",
    "                  batch_size = config[\"batch_size\"],\n",
    "                  shuffle=False,\n",
    "                  num_workers = 4,\n",
    "                  pin_memory=True,\n",
    "                  drop_last=False\n",
    "                 )\n",
    "        \n",
    "    embeddings = list()\n",
    "    with torch.no_grad():\n",
    "        for i, inputs in tqdm(enumerate(dl)):\n",
    "            inputs = {key:val.reshape(val.shape[0],-1).to(device) for key,val in inputs.items()}\n",
    "            outputs = model(**inputs)\n",
    "            outputs = outputs.detach().cpu().numpy()\n",
    "            embeddings.extend(outputs)\n",
    "    return np.array(embeddings)"
   ]
  },
  {
   "cell_type": "code",
   "execution_count": 8,
   "id": "generic-bookmark",
   "metadata": {
    "execution": {
     "iopub.execute_input": "2021-06-17T01:07:49.798995Z",
     "iopub.status.busy": "2021-06-17T01:07:49.798394Z",
     "iopub.status.idle": "2021-06-17T01:10:45.636371Z",
     "shell.execute_reply": "2021-06-17T01:10:45.636962Z",
     "shell.execute_reply.started": "2021-06-17T01:01:06.493554Z"
    },
    "papermill": {
     "duration": 175.912486,
     "end_time": "2021-06-17T01:10:45.637162",
     "exception": false,
     "start_time": "2021-06-17T01:07:49.724676",
     "status": "completed"
    },
    "tags": []
   },
   "outputs": [
    {
     "name": "stdout",
     "output_type": "stream",
     "text": [
      "cuda is used\n"
     ]
    },
    {
     "name": "stderr",
     "output_type": "stream",
     "text": [
      "23it [00:23,  1.01s/it]\n"
     ]
    },
    {
     "name": "stdout",
     "output_type": "stream",
     "text": [
      "cuda is used\n"
     ]
    },
    {
     "name": "stderr",
     "output_type": "stream",
     "text": [
      "1it [00:00,  6.60it/s]\n"
     ]
    },
    {
     "name": "stdout",
     "output_type": "stream",
     "text": [
      "cuda is used\n"
     ]
    },
    {
     "name": "stderr",
     "output_type": "stream",
     "text": [
      "23it [00:21,  1.06it/s]\n"
     ]
    },
    {
     "name": "stdout",
     "output_type": "stream",
     "text": [
      "cuda is used\n"
     ]
    },
    {
     "name": "stderr",
     "output_type": "stream",
     "text": [
      "1it [00:00,  6.44it/s]\n"
     ]
    },
    {
     "name": "stdout",
     "output_type": "stream",
     "text": [
      "cuda is used\n"
     ]
    },
    {
     "name": "stderr",
     "output_type": "stream",
     "text": [
      "23it [00:21,  1.06it/s]\n"
     ]
    },
    {
     "name": "stdout",
     "output_type": "stream",
     "text": [
      "cuda is used\n"
     ]
    },
    {
     "name": "stderr",
     "output_type": "stream",
     "text": [
      "1it [00:00,  6.15it/s]\n"
     ]
    },
    {
     "name": "stdout",
     "output_type": "stream",
     "text": [
      "cuda is used\n"
     ]
    },
    {
     "name": "stderr",
     "output_type": "stream",
     "text": [
      "23it [00:21,  1.06it/s]\n"
     ]
    },
    {
     "name": "stdout",
     "output_type": "stream",
     "text": [
      "cuda is used\n"
     ]
    },
    {
     "name": "stderr",
     "output_type": "stream",
     "text": [
      "1it [00:00,  5.87it/s]\n"
     ]
    },
    {
     "name": "stdout",
     "output_type": "stream",
     "text": [
      "cuda is used\n"
     ]
    },
    {
     "name": "stderr",
     "output_type": "stream",
     "text": [
      "23it [00:21,  1.05it/s]\n"
     ]
    },
    {
     "name": "stdout",
     "output_type": "stream",
     "text": [
      "cuda is used\n"
     ]
    },
    {
     "name": "stderr",
     "output_type": "stream",
     "text": [
      "1it [00:00,  4.97it/s]\n"
     ]
    }
   ],
   "source": [
    "train_embeddings1 =  get_embeddings(train_data,'../input/d/maunish/clr-roberta/model0/model0.bin')\n",
    "test_embeddings1 = get_embeddings(test_data,'../input/d/maunish/clr-roberta/model0/model0.bin')\n",
    "\n",
    "train_embeddings2 =  get_embeddings(train_data,'../input/d/maunish/clr-roberta/model1/model1.bin')\n",
    "test_embeddings2 = get_embeddings(test_data,'../input/d/maunish/clr-roberta/model1/model1.bin')\n",
    "\n",
    "train_embeddings3 =  get_embeddings(train_data,'../input/d/maunish/clr-roberta/model2/model2.bin')\n",
    "test_embeddings3 = get_embeddings(test_data,'../input/d/maunish/clr-roberta/model2/model2.bin')\n",
    "\n",
    "train_embeddings4 =  get_embeddings(train_data,'../input/d/maunish/clr-roberta/model3/model3.bin')\n",
    "test_embeddings4 = get_embeddings(test_data,'../input/d/maunish/clr-roberta/model3/model3.bin')\n",
    "\n",
    "train_embeddings5 =  get_embeddings(train_data,'../input/d/maunish/clr-roberta/model4/model4.bin')\n",
    "test_embeddings5 = get_embeddings(test_data,'../input/d/maunish/clr-roberta/model4/model4.bin')\n",
    "\"\"\"\"\"\";"
   ]
  },
  {
   "cell_type": "code",
   "execution_count": 9,
   "id": "private-fairy",
   "metadata": {
    "execution": {
     "iopub.execute_input": "2021-06-17T01:10:45.762249Z",
     "iopub.status.busy": "2021-06-17T01:10:45.761284Z",
     "iopub.status.idle": "2021-06-17T01:10:45.774316Z",
     "shell.execute_reply": "2021-06-17T01:10:45.773924Z",
     "shell.execute_reply.started": "2021-06-17T01:03:37.368753Z"
    },
    "papermill": {
     "duration": 0.076345,
     "end_time": "2021-06-17T01:10:45.774424",
     "exception": false,
     "start_time": "2021-06-17T01:10:45.698079",
     "status": "completed"
    },
    "tags": []
   },
   "outputs": [],
   "source": [
    "train_embeddings = (train_embeddings1 + train_embeddings2 + train_embeddings3 + train_embeddings4 + train_embeddings5) / 5\n",
    "test_embeddings = (test_embeddings1 + test_embeddings2 + test_embeddings3 + test_embeddings4 + test_embeddings5) / 5"
   ]
  },
  {
   "cell_type": "markdown",
   "id": "stunning-portugal",
   "metadata": {
    "papermill": {
     "duration": 0.058857,
     "end_time": "2021-06-17T01:10:45.893019",
     "exception": false,
     "start_time": "2021-06-17T01:10:45.834162",
     "status": "completed"
    },
    "tags": []
   },
   "source": [
    "### UMAP"
   ]
  },
  {
   "cell_type": "code",
   "execution_count": 10,
   "id": "jewish-guard",
   "metadata": {
    "execution": {
     "iopub.execute_input": "2021-06-17T01:10:46.014441Z",
     "iopub.status.busy": "2021-06-17T01:10:46.013732Z",
     "iopub.status.idle": "2021-06-17T01:10:46.015961Z",
     "shell.execute_reply": "2021-06-17T01:10:46.016355Z",
     "shell.execute_reply.started": "2021-06-17T01:03:37.386970Z"
    },
    "papermill": {
     "duration": 0.064433,
     "end_time": "2021-06-17T01:10:46.016470",
     "exception": false,
     "start_time": "2021-06-17T01:10:45.952037",
     "status": "completed"
    },
    "tags": []
   },
   "outputs": [],
   "source": [
    "#import umap # nonlinear dimensionality reduction\n",
    "#from sklearn.preprocessing import StandardScaler"
   ]
  },
  {
   "cell_type": "code",
   "execution_count": 11,
   "id": "critical-jurisdiction",
   "metadata": {
    "execution": {
     "iopub.execute_input": "2021-06-17T01:10:46.138773Z",
     "iopub.status.busy": "2021-06-17T01:10:46.138100Z",
     "iopub.status.idle": "2021-06-17T01:10:46.140795Z",
     "shell.execute_reply": "2021-06-17T01:10:46.140388Z",
     "shell.execute_reply.started": "2021-06-17T01:03:37.392868Z"
    },
    "papermill": {
     "duration": 0.064576,
     "end_time": "2021-06-17T01:10:46.140909",
     "exception": false,
     "start_time": "2021-06-17T01:10:46.076333",
     "status": "completed"
    },
    "tags": []
   },
   "outputs": [],
   "source": [
    "#from sklearn.model_selection import train_test_split\n",
    "#X_train, X_val, y_train, y_val = train_test_split(train_embeddings, target, test_size=0.05, random_state=22)"
   ]
  },
  {
   "cell_type": "code",
   "execution_count": 12,
   "id": "complete-thumb",
   "metadata": {
    "execution": {
     "iopub.execute_input": "2021-06-17T01:10:46.263001Z",
     "iopub.status.busy": "2021-06-17T01:10:46.262310Z",
     "iopub.status.idle": "2021-06-17T01:10:46.264594Z",
     "shell.execute_reply": "2021-06-17T01:10:46.264956Z",
     "shell.execute_reply.started": "2021-06-17T01:03:37.401927Z"
    },
    "papermill": {
     "duration": 0.064642,
     "end_time": "2021-06-17T01:10:46.265071",
     "exception": false,
     "start_time": "2021-06-17T01:10:46.200429",
     "status": "completed"
    },
    "tags": []
   },
   "outputs": [],
   "source": [
    "#umap_emb = umap.UMAP(n_neighbors= 700, min_dist = 0.1, n_components = 2, metric = 'cosine', target_metric = 'l1' , n_epochs = 1500).fit(X_train, y= y_train)\n",
    "#umap_emb = umap.UMAP(n_neighbors= 700, min_dist = 0.1, n_components = 2, metric = 'cosine', target_metric = 'l1' , n_epochs = 1500, random_state=137).fit(train_embeddings, y= target)"
   ]
  },
  {
   "cell_type": "code",
   "execution_count": 13,
   "id": "requested-workshop",
   "metadata": {
    "execution": {
     "iopub.execute_input": "2021-06-17T01:10:46.387420Z",
     "iopub.status.busy": "2021-06-17T01:10:46.386250Z",
     "iopub.status.idle": "2021-06-17T01:10:46.388983Z",
     "shell.execute_reply": "2021-06-17T01:10:46.388523Z",
     "shell.execute_reply.started": "2021-06-17T01:03:37.412064Z"
    },
    "papermill": {
     "duration": 0.065108,
     "end_time": "2021-06-17T01:10:46.389082",
     "exception": false,
     "start_time": "2021-06-17T01:10:46.323974",
     "status": "completed"
    },
    "tags": []
   },
   "outputs": [],
   "source": [
    "\"\"\"\n",
    "fig, ax = plt.subplots(1, figsize=(14, 10))\n",
    "#plt.scatter(*umap_emb.embedding_.T,y = np.zeros(umap_emb.embedding_.shape[0]),  s=3, c=target, cmap='Spectral', alpha=1.0)\n",
    "plt.scatter(*umap_emb.embedding_.T,  s=3, c=target, cmap='Spectral', alpha=1.0)\n",
    "plt.setp(ax, xticks=[], yticks=[])\n",
    "ax.patch.set_facecolor('black')\n",
    "fg_color = 'black'\n",
    "cbar = plt.colorbar()\n",
    "plt.setp(plt.getp(cbar.ax.axes, 'yticklabels'), color=fg_color)\n",
    "\"\"\";"
   ]
  },
  {
   "cell_type": "markdown",
   "id": "behavioral-manor",
   "metadata": {
    "papermill": {
     "duration": 0.059184,
     "end_time": "2021-06-17T01:10:46.507263",
     "exception": false,
     "start_time": "2021-06-17T01:10:46.448079",
     "status": "completed"
    },
    "tags": []
   },
   "source": []
  },
  {
   "cell_type": "code",
   "execution_count": 14,
   "id": "intellectual-establishment",
   "metadata": {
    "execution": {
     "iopub.execute_input": "2021-06-17T01:10:46.627953Z",
     "iopub.status.busy": "2021-06-17T01:10:46.627431Z",
     "iopub.status.idle": "2021-06-17T01:10:46.631192Z",
     "shell.execute_reply": "2021-06-17T01:10:46.630788Z",
     "shell.execute_reply.started": "2021-06-17T01:03:37.421553Z"
    },
    "papermill": {
     "duration": 0.06521,
     "end_time": "2021-06-17T01:10:46.631286",
     "exception": false,
     "start_time": "2021-06-17T01:10:46.566076",
     "status": "completed"
    },
    "tags": []
   },
   "outputs": [],
   "source": [
    "#val_emb = umap_emb.transform(X_val)\n",
    "#val_embedding = umap_emb.transform(test_embeddings)"
   ]
  },
  {
   "cell_type": "code",
   "execution_count": 15,
   "id": "smart-enlargement",
   "metadata": {
    "execution": {
     "iopub.execute_input": "2021-06-17T01:10:46.754206Z",
     "iopub.status.busy": "2021-06-17T01:10:46.753006Z",
     "iopub.status.idle": "2021-06-17T01:10:46.755272Z",
     "shell.execute_reply": "2021-06-17T01:10:46.755679Z",
     "shell.execute_reply.started": "2021-06-17T01:03:37.435883Z"
    },
    "papermill": {
     "duration": 0.065152,
     "end_time": "2021-06-17T01:10:46.755791",
     "exception": false,
     "start_time": "2021-06-17T01:10:46.690639",
     "status": "completed"
    },
    "tags": []
   },
   "outputs": [],
   "source": [
    "\"\"\"\n",
    "fig, ax = plt.subplots(1, figsize=(14, 10))\n",
    "#plt.scatter(*umap_emb.embedding_.T,y = np.zeros(umap_emb.embedding_.shape[0]), s=3, c=target, cmap='Spectral', alpha=1.0)\n",
    "\n",
    "#plt.scatter(*val_embedding.T,y = np.zeros(val_embedding.shape[0]), s=30, alpha=1.0)\n",
    "plt.scatter(*val_emb.T, s=60, c = y_val, vmin = target.min(), vmax = target.max(),cmap='Spectral', alpha=1.0)\n",
    "plt.scatter(*umap_emb.embedding_.T,  s=3, c=y_train, cmap='Spectral', alpha=1.0)\n",
    "plt.setp(ax, xticks=[], yticks=[])\n",
    "ax.patch.set_facecolor('black')\n",
    "fg_color = 'black'\n",
    "cbar = plt.colorbar()\n",
    "plt.setp(plt.getp(cbar.ax.axes, 'yticklabels'), color=fg_color)\n",
    "\"\"\";"
   ]
  },
  {
   "cell_type": "code",
   "execution_count": 16,
   "id": "starting-bubble",
   "metadata": {
    "execution": {
     "iopub.execute_input": "2021-06-17T01:10:46.880085Z",
     "iopub.status.busy": "2021-06-17T01:10:46.878896Z",
     "iopub.status.idle": "2021-06-17T01:10:46.881196Z",
     "shell.execute_reply": "2021-06-17T01:10:46.881547Z",
     "shell.execute_reply.started": "2021-06-17T01:03:37.443821Z"
    },
    "papermill": {
     "duration": 0.066452,
     "end_time": "2021-06-17T01:10:46.881698",
     "exception": false,
     "start_time": "2021-06-17T01:10:46.815246",
     "status": "completed"
    },
    "tags": []
   },
   "outputs": [],
   "source": [
    "\"\"\"\n",
    "from sklearn.ensemble import RandomForestRegressor\n",
    "from sklearn.metrics import mean_squared_error\n",
    "\n",
    "regr = RandomForestRegressor(n_estimators = 1000, max_depth=6, random_state=0, n_jobs = -1)\n",
    "regr.fit(umap_emb.embedding_, y_train)\n",
    "\n",
    "y_pred = regr.predict(val_emb)\n",
    "\n",
    "np.sqrt(mean_squared_error(y_val, y_pred))\n",
    "\n",
    "# 0.39 best, n_components = 700, min_dist = 0.1\n",
    "\"\"\";"
   ]
  },
  {
   "cell_type": "markdown",
   "id": "honest-raleigh",
   "metadata": {
    "papermill": {
     "duration": 0.066427,
     "end_time": "2021-06-17T01:10:47.010660",
     "exception": false,
     "start_time": "2021-06-17T01:10:46.944233",
     "status": "completed"
    },
    "tags": []
   },
   "source": [
    "## Inference"
   ]
  },
  {
   "cell_type": "code",
   "execution_count": 17,
   "id": "bigger-opportunity",
   "metadata": {
    "execution": {
     "iopub.execute_input": "2021-06-17T01:10:47.136210Z",
     "iopub.status.busy": "2021-06-17T01:10:47.135517Z",
     "iopub.status.idle": "2021-06-17T01:10:47.138172Z",
     "shell.execute_reply": "2021-06-17T01:10:47.137789Z",
     "shell.execute_reply.started": "2021-06-17T01:03:37.454276Z"
    },
    "papermill": {
     "duration": 0.065239,
     "end_time": "2021-06-17T01:10:47.138274",
     "exception": false,
     "start_time": "2021-06-17T01:10:47.073035",
     "status": "completed"
    },
    "tags": []
   },
   "outputs": [],
   "source": [
    "#from sklearn.ensemble import RandomForestRegressor"
   ]
  },
  {
   "cell_type": "code",
   "execution_count": 18,
   "id": "sweet-forty",
   "metadata": {
    "execution": {
     "iopub.execute_input": "2021-06-17T01:10:47.261460Z",
     "iopub.status.busy": "2021-06-17T01:10:47.260775Z",
     "iopub.status.idle": "2021-06-17T01:10:47.263464Z",
     "shell.execute_reply": "2021-06-17T01:10:47.262981Z",
     "shell.execute_reply.started": "2021-06-17T01:03:37.463235Z"
    },
    "papermill": {
     "duration": 0.065772,
     "end_time": "2021-06-17T01:10:47.263576",
     "exception": false,
     "start_time": "2021-06-17T01:10:47.197804",
     "status": "completed"
    },
    "tags": []
   },
   "outputs": [],
   "source": [
    "\"\"\"\n",
    "X_train = umap_emb.embedding_\n",
    "y_train = target \n",
    "\n",
    "## Augmentation for tree models \n",
    "X_train = np.append(X_train, np.reshape((X_train[:,0]*X_train[:,1]),(-1,1)), axis = 1)\n",
    "X_train = np.append(X_train, np.reshape((X_train[:,0]*X_train[:,0]),(-1,1)), axis = 1)\n",
    "X_train = np.append(X_train, np.reshape((X_train[:,1]*X_train[:,1]),(-1,1)), axis = 1)\n",
    "\n",
    "def mean_normalization(df):\n",
    "    result = df.copy()\n",
    "    for feature_name in df.columns:\n",
    "        mean_value = df[feature_name].mean()\n",
    "        std_value = df[feature_name].std()\n",
    "        result[feature_name] = (df[feature_name] - mean_value) / std_value\n",
    "    return result\n",
    "    \n",
    "X_train_df = pd.DataFrame(X_train)\n",
    "X_train_norm = mean_normalization(X_train_df)\n",
    "X_train_norm.head()\n",
    "\n",
    "X_test = val_embedding\n",
    "\n",
    "#\n",
    "X_test = np.append(X_test, np.reshape((X_test[:,0]*X_test[:,1]),(-1,1)), axis = 1)\n",
    "X_test = np.append(X_test, np.reshape((X_test[:,0]*X_test[:,0]),(-1,1)), axis = 1)\n",
    "X_test = np.append(X_test, np.reshape((X_test[:,1]*X_test[:,1]),(-1,1)), axis = 1)\n",
    "\n",
    "X_test_df = pd.DataFrame(X_test)\n",
    "X_test_norm = mean_normalization(X_test_df)\n",
    "X_test_norm.head()\n",
    "\n",
    "\n",
    "from sklearn.model_selection import train_test_split\n",
    "\n",
    "X_train, X_val, y_train, y_val = train_test_split(\n",
    "    X_train_norm, target, test_size=0.10, random_state=22)\n",
    "\n",
    "\n",
    "\n",
    "from sklearn.metrics import mean_squared_error\n",
    "regr = RandomForestRegressor(n_estimators = 1000, max_depth=5, random_state=0, n_jobs = -1)\n",
    "regr.fit(X_train, y_train)\n",
    "\n",
    "y_pred = regr.predict(X_val)\n",
    "\n",
    "np.sqrt(mean_squared_error(y_val, y_pred))\n",
    "\"\"\";"
   ]
  },
  {
   "cell_type": "code",
   "execution_count": 19,
   "id": "finnish-wales",
   "metadata": {
    "execution": {
     "iopub.execute_input": "2021-06-17T01:10:47.385730Z",
     "iopub.status.busy": "2021-06-17T01:10:47.385054Z",
     "iopub.status.idle": "2021-06-17T01:10:47.388031Z",
     "shell.execute_reply": "2021-06-17T01:10:47.387541Z",
     "shell.execute_reply.started": "2021-06-17T01:03:37.472978Z"
    },
    "papermill": {
     "duration": 0.065341,
     "end_time": "2021-06-17T01:10:47.388130",
     "exception": false,
     "start_time": "2021-06-17T01:10:47.322789",
     "status": "completed"
    },
    "tags": []
   },
   "outputs": [],
   "source": [
    "# k fold CV \n",
    "\"\"\"\n",
    "from sklearn.metrics import mean_squared_error\n",
    "\n",
    "rfr_preds =  np.zeros(test_data.shape[0])\n",
    "nfolds=5\n",
    "kfold = StratifiedKFold(n_splits=nfolds)\n",
    "train_data = umap_emb.embedding_\n",
    "for k , (train_idx,valid_idx) in enumerate(kfold.split(X=train_data,y=bins)):\n",
    "    \n",
    "    X_train, X_val = train_data[train_idx], train_data[valid_idx]\n",
    "    y_train, y_val = bins[train_idx], bins[valid_idx]\n",
    "\n",
    "    rfr_model = RandomForestRegressor(max_depth=6, n_estimators = 1000, random_state=0, n_jobs = -1)\n",
    "    rfr_model.fit(X_train, y_train)\n",
    "    cv_pred = rfr_model.predict(X_val)\n",
    "    cv_score = np.sqrt(mean_squared_error(cv_pred, y_val))\n",
    "    print(cv_score)\n",
    "    rfr_preds += rfr_model.predict(val_embedding)/nfolds\n",
    "    \"\"\";"
   ]
  },
  {
   "cell_type": "code",
   "execution_count": 20,
   "id": "relative-pencil",
   "metadata": {
    "execution": {
     "iopub.execute_input": "2021-06-17T01:10:47.508974Z",
     "iopub.status.busy": "2021-06-17T01:10:47.508292Z",
     "iopub.status.idle": "2021-06-17T01:10:47.511121Z",
     "shell.execute_reply": "2021-06-17T01:10:47.510693Z",
     "shell.execute_reply.started": "2021-06-17T01:03:37.485508Z"
    },
    "papermill": {
     "duration": 0.064197,
     "end_time": "2021-06-17T01:10:47.511220",
     "exception": false,
     "start_time": "2021-06-17T01:10:47.447023",
     "status": "completed"
    },
    "tags": []
   },
   "outputs": [],
   "source": [
    "#regr = RandomForestRegressor(max_depth=6, n_estimators = 1000, random_state=100, n_jobs = -1)\n",
    "#regr.fit(umap_emb.embedding_, target)"
   ]
  },
  {
   "cell_type": "code",
   "execution_count": 21,
   "id": "logical-remainder",
   "metadata": {
    "execution": {
     "iopub.execute_input": "2021-06-17T01:10:47.632550Z",
     "iopub.status.busy": "2021-06-17T01:10:47.631857Z",
     "iopub.status.idle": "2021-06-17T01:10:47.634424Z",
     "shell.execute_reply": "2021-06-17T01:10:47.633985Z",
     "shell.execute_reply.started": "2021-06-17T01:03:37.497305Z"
    },
    "papermill": {
     "duration": 0.064218,
     "end_time": "2021-06-17T01:10:47.634522",
     "exception": false,
     "start_time": "2021-06-17T01:10:47.570304",
     "status": "completed"
    },
    "tags": []
   },
   "outputs": [],
   "source": [
    "#y_hat = regr.predict(val_embedding)\n",
    "#y_hat"
   ]
  },
  {
   "cell_type": "code",
   "execution_count": 22,
   "id": "rotary-mambo",
   "metadata": {
    "execution": {
     "iopub.execute_input": "2021-06-17T01:10:47.756963Z",
     "iopub.status.busy": "2021-06-17T01:10:47.756206Z",
     "iopub.status.idle": "2021-06-17T01:10:47.758741Z",
     "shell.execute_reply": "2021-06-17T01:10:47.758311Z",
     "shell.execute_reply.started": "2021-06-17T01:03:37.506228Z"
    },
    "papermill": {
     "duration": 0.064849,
     "end_time": "2021-06-17T01:10:47.758854",
     "exception": false,
     "start_time": "2021-06-17T01:10:47.694005",
     "status": "completed"
    },
    "tags": []
   },
   "outputs": [],
   "source": [
    "\"\"\"\n",
    "fig, ax = plt.subplots(1, figsize=(14, 10))\n",
    "plt.scatter(*umap_emb.embedding_.T, s=3, c=target, cmap='Spectral', alpha=1.0)\n",
    "plt.scatter(*val_embedding.T, s=60, c = y_test, cmap='Spectral', vmin = target.min(), vmax = target.max(), alpha=1.0)\n",
    "#plt.scatter(X_test_norm.values[:,0],X_test_norm.values[:,1], s=60, c = y_test, vmin = target.min(), vmax = target.max(),cmap='Spectral', alpha=1.0)\n",
    "#plt.scatter(X_train_norm.values[:,0],X_train_norm.values[:,1], s=3, c=target, cmap='Spectral', alpha=1.0)\n",
    "plt.setp(ax, xticks=[], yticks=[])\n",
    "ax.patch.set_facecolor('black')\n",
    "fg_color = 'black'\n",
    "cbar = plt.colorbar()\n",
    "plt.setp(plt.getp(cbar.ax.axes, 'yticklabels'), color=fg_color)\n",
    "\"\"\";"
   ]
  },
  {
   "cell_type": "code",
   "execution_count": 23,
   "id": "green-richards",
   "metadata": {
    "execution": {
     "iopub.execute_input": "2021-06-17T01:10:47.880333Z",
     "iopub.status.busy": "2021-06-17T01:10:47.879853Z",
     "iopub.status.idle": "2021-06-17T01:11:05.801428Z",
     "shell.execute_reply": "2021-06-17T01:11:05.800280Z",
     "shell.execute_reply.started": "2021-06-17T01:03:37.513293Z"
    },
    "papermill": {
     "duration": 17.983812,
     "end_time": "2021-06-17T01:11:05.801622",
     "exception": false,
     "start_time": "2021-06-17T01:10:47.817810",
     "status": "completed"
    },
    "tags": []
   },
   "outputs": [],
   "source": [
    "import umap\n",
    "from sklearn.ensemble import RandomForestRegressor# nonlinear dimensionality reduction\n",
    "from tqdm.notebook import tqdm\n",
    "from sklearn.svm import SVR\n",
    "from sklearn.preprocessing import StandardScaler"
   ]
  },
  {
   "cell_type": "code",
   "execution_count": 24,
   "id": "furnished-mount",
   "metadata": {
    "execution": {
     "iopub.execute_input": "2021-06-17T01:11:05.930041Z",
     "iopub.status.busy": "2021-06-17T01:11:05.929197Z",
     "iopub.status.idle": "2021-06-17T01:11:55.595496Z",
     "shell.execute_reply": "2021-06-17T01:11:55.595021Z",
     "shell.execute_reply.started": "2021-06-17T01:06:14.786632Z"
    },
    "papermill": {
     "duration": 49.732132,
     "end_time": "2021-06-17T01:11:55.595646",
     "exception": false,
     "start_time": "2021-06-17T01:11:05.863514",
     "status": "completed"
    },
    "tags": []
   },
   "outputs": [],
   "source": [
    "umap_emb_ = umap.UMAP(n_neighbors= 750, min_dist = 0.7, n_components = 2, metric = 'cosine', target_metric = 'l2' , n_epochs = 1500, random_state=0).fit(train_embeddings, y= target)\n",
    "val_embedding_ = umap_emb_.transform(test_embeddings)"
   ]
  },
  {
   "cell_type": "code",
   "execution_count": 25,
   "id": "rapid-neighbor",
   "metadata": {
    "execution": {
     "iopub.execute_input": "2021-06-17T01:11:55.721432Z",
     "iopub.status.busy": "2021-06-17T01:11:55.720607Z",
     "iopub.status.idle": "2021-06-17T01:11:55.725007Z",
     "shell.execute_reply": "2021-06-17T01:11:55.724520Z",
     "shell.execute_reply.started": "2021-06-17T01:07:03.680897Z"
    },
    "papermill": {
     "duration": 0.069215,
     "end_time": "2021-06-17T01:11:55.725128",
     "exception": false,
     "start_time": "2021-06-17T01:11:55.655913",
     "status": "completed"
    },
    "tags": []
   },
   "outputs": [],
   "source": [
    "scaler = StandardScaler()\n",
    "scaler.fit(umap_emb_.embedding_)\n",
    "\n",
    "scaled_umap_emb = scaler.transform(umap_emb_.embedding_)\n",
    "scaled_val_emb = scaler.transform(val_embedding_)"
   ]
  },
  {
   "cell_type": "code",
   "execution_count": 26,
   "id": "systematic-allowance",
   "metadata": {
    "execution": {
     "iopub.execute_input": "2021-06-17T01:11:55.851899Z",
     "iopub.status.busy": "2021-06-17T01:11:55.851126Z",
     "iopub.status.idle": "2021-06-17T01:11:55.967721Z",
     "shell.execute_reply": "2021-06-17T01:11:55.967205Z",
     "shell.execute_reply.started": "2021-06-17T01:07:03.693876Z"
    },
    "papermill": {
     "duration": 0.181605,
     "end_time": "2021-06-17T01:11:55.967828",
     "exception": false,
     "start_time": "2021-06-17T01:11:55.786223",
     "status": "completed"
    },
    "tags": []
   },
   "outputs": [],
   "source": [
    "svr_ = SVR(kernel=\"rbf\", C =1)\n",
    "svr_.fit(scaled_umap_emb, target)\n",
    "y_hat = svr_.predict(scaled_val_emb)"
   ]
  },
  {
   "cell_type": "code",
   "execution_count": 27,
   "id": "grave-romance",
   "metadata": {
    "execution": {
     "iopub.execute_input": "2021-06-17T01:11:56.091888Z",
     "iopub.status.busy": "2021-06-17T01:11:56.091180Z",
     "iopub.status.idle": "2021-06-17T01:11:56.094220Z",
     "shell.execute_reply": "2021-06-17T01:11:56.093729Z",
     "shell.execute_reply.started": "2021-06-17T01:07:03.924678Z"
    },
    "papermill": {
     "duration": 0.066807,
     "end_time": "2021-06-17T01:11:56.094320",
     "exception": false,
     "start_time": "2021-06-17T01:11:56.027513",
     "status": "completed"
    },
    "tags": []
   },
   "outputs": [],
   "source": [
    "\"\"\"\n",
    "y_hat = np.zeros(test_data.shape[0])\n",
    "n_times = 100 \n",
    "for i in tqdm(range(0, n_times)):\n",
    "    umap_emb = umap.UMAP(n_neighbors= 700, min_dist = 0.1, n_components = 2, metric = 'cosine', target_metric = 'l1' , n_epochs = 1500, random_state=i).fit(train_embeddings, y= target)\n",
    "    val_embedding = umap_emb.transform(test_embeddings)\n",
    "    regr = RandomForestRegressor(max_depth=6, n_estimators = 1000, random_state=100, n_jobs = -1)\n",
    "    regr.fit(umap_emb.embedding_, target)\n",
    "    y_hat += regr.predict(val_embedding)\n",
    "    \n",
    "y_hat = y_hat/n_times\n",
    "\"\"\";"
   ]
  },
  {
   "cell_type": "code",
   "execution_count": 28,
   "id": "sporting-marathon",
   "metadata": {
    "execution": {
     "iopub.execute_input": "2021-06-17T01:11:56.218494Z",
     "iopub.status.busy": "2021-06-17T01:11:56.217950Z",
     "iopub.status.idle": "2021-06-17T01:11:56.228282Z",
     "shell.execute_reply": "2021-06-17T01:11:56.227775Z",
     "shell.execute_reply.started": "2021-06-17T01:07:03.942062Z"
    },
    "papermill": {
     "duration": 0.074335,
     "end_time": "2021-06-17T01:11:56.228381",
     "exception": false,
     "start_time": "2021-06-17T01:11:56.154046",
     "status": "completed"
    },
    "tags": []
   },
   "outputs": [],
   "source": [
    "sample['target'] = y_hat\n",
    "sample.to_csv('submission.csv', index=False)"
   ]
  },
  {
   "cell_type": "code",
   "execution_count": 29,
   "id": "configured-scotland",
   "metadata": {
    "execution": {
     "iopub.execute_input": "2021-06-17T01:11:56.354632Z",
     "iopub.status.busy": "2021-06-17T01:11:56.353943Z",
     "iopub.status.idle": "2021-06-17T01:11:56.357042Z",
     "shell.execute_reply": "2021-06-17T01:11:56.357425Z",
     "shell.execute_reply.started": "2021-06-17T01:07:03.963154Z"
    },
    "papermill": {
     "duration": 0.069217,
     "end_time": "2021-06-17T01:11:56.357570",
     "exception": false,
     "start_time": "2021-06-17T01:11:56.288353",
     "status": "completed"
    },
    "tags": []
   },
   "outputs": [
    {
     "data": {
      "text/plain": [
       "array([-0.46821733, -0.34707585, -0.54230431, -2.15246364, -1.83822487,\n",
       "       -1.31840768,  0.85924359])"
      ]
     },
     "execution_count": 29,
     "metadata": {},
     "output_type": "execute_result"
    }
   ],
   "source": [
    "y_hat"
   ]
  }
 ],
 "metadata": {
  "kernelspec": {
   "display_name": "Python 3",
   "language": "python",
   "name": "python3"
  },
  "language_info": {
   "codemirror_mode": {
    "name": "ipython",
    "version": 3
   },
   "file_extension": ".py",
   "mimetype": "text/x-python",
   "name": "python",
   "nbconvert_exporter": "python",
   "pygments_lexer": "ipython3",
   "version": "3.7.10"
  },
  "papermill": {
   "default_parameters": {},
   "duration": 263.769481,
   "end_time": "2021-06-17T01:11:59.698374",
   "environment_variables": {},
   "exception": null,
   "input_path": "__notebook__.ipynb",
   "output_path": "__notebook__.ipynb",
   "parameters": {},
   "start_time": "2021-06-17T01:07:35.928893",
   "version": "2.3.3"
  }
 },
 "nbformat": 4,
 "nbformat_minor": 5
}
