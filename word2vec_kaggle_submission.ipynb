{
 "cells": [
  {
   "cell_type": "code",
   "execution_count": 1,
   "id": "beginning-retail",
   "metadata": {
    "_cell_guid": "b1076dfc-b9ad-4769-8c92-a6c4dae69d19",
    "_uuid": "8f2839f25d086af736a60e9eeb907d3b93b6e0e5",
    "execution": {
     "iopub.execute_input": "2021-05-09T21:07:58.968503Z",
     "iopub.status.busy": "2021-05-09T21:07:58.967452Z",
     "iopub.status.idle": "2021-05-09T21:07:58.988228Z",
     "shell.execute_reply": "2021-05-09T21:07:58.988682Z"
    },
    "papermill": {
     "duration": 0.045528,
     "end_time": "2021-05-09T21:07:58.989041",
     "exception": false,
     "start_time": "2021-05-09T21:07:58.943513",
     "status": "completed"
    },
    "tags": []
   },
   "outputs": [
    {
     "name": "stdout",
     "output_type": "stream",
     "text": [
      "/kaggle/input/commonlitreadabilityprize/sample_submission.csv\n",
      "/kaggle/input/commonlitreadabilityprize/train.csv\n",
      "/kaggle/input/commonlitreadabilityprize/test.csv\n",
      "/kaggle/input/w2v-pretrained/GoogleNews-vectors-negative300.bin\n"
     ]
    }
   ],
   "source": [
    "# This Python 3 environment comes with many helpful analytics libraries installed\n",
    "# It is defined by the kaggle/python Docker image: https://github.com/kaggle/docker-python\n",
    "# For example, here's several helpful packages to load\n",
    "\n",
    "import numpy as np # linear algebra\n",
    "import pandas as pd # data processing, CSV file I/O (e.g. pd.read_csv)\n",
    "\n",
    "# Input data files are available in the read-only \"../input/\" directory\n",
    "# For example, running this (by clicking run or pressing Shift+Enter) will list all files under the input directory\n",
    "\n",
    "import os\n",
    "for dirname, _, filenames in os.walk('/kaggle/input'):\n",
    "    for filename in filenames:\n",
    "        print(os.path.join(dirname, filename))\n",
    "\n",
    "# You can write up to 20GB to the current directory (/kaggle/working/) that gets preserved as output when you create a version using \"Save & Run All\" \n",
    "# You can also write temporary files to /kaggle/temp/, but they won't be saved outside of the current session"
   ]
  },
  {
   "cell_type": "code",
   "execution_count": 2,
   "id": "apart-driver",
   "metadata": {
    "execution": {
     "iopub.execute_input": "2021-05-09T21:07:59.035052Z",
     "iopub.status.busy": "2021-05-09T21:07:59.034452Z",
     "iopub.status.idle": "2021-05-09T21:08:01.046057Z",
     "shell.execute_reply": "2021-05-09T21:08:01.046528Z"
    },
    "papermill": {
     "duration": 2.036495,
     "end_time": "2021-05-09T21:08:01.046760",
     "exception": false,
     "start_time": "2021-05-09T21:07:59.010265",
     "status": "completed"
    },
    "tags": []
   },
   "outputs": [],
   "source": [
    "# languange processing imports\n",
    "import nltk\n",
    "#nltk.download('punkt')\n",
    "import re\n",
    "\n",
    "from sklearn.model_selection import train_test_split\n",
    "\n",
    "# model imports\n",
    "from gensim.models.word2vec import Word2Vec\n",
    "from gensim.models import KeyedVectors\n",
    "#import gensim.downloader as api"
   ]
  },
  {
   "cell_type": "code",
   "execution_count": 3,
   "id": "monthly-commodity",
   "metadata": {
    "execution": {
     "iopub.execute_input": "2021-05-09T21:08:01.094182Z",
     "iopub.status.busy": "2021-05-09T21:08:01.093222Z",
     "iopub.status.idle": "2021-05-09T21:08:01.096508Z",
     "shell.execute_reply": "2021-05-09T21:08:01.096066Z"
    },
    "papermill": {
     "duration": 0.030217,
     "end_time": "2021-05-09T21:08:01.096661",
     "exception": false,
     "start_time": "2021-05-09T21:08:01.066444",
     "status": "completed"
    },
    "tags": []
   },
   "outputs": [],
   "source": [
    "# find and remove non-ascii words\n",
    "# Non so se serva, ma si può modificare aggiungendo preprocessing ad-hoc\n",
    "\n",
    "our_special_word = 'qwerty'\n",
    "\n",
    "def remove_ascii_words(df):\n",
    "    \"\"\" removes non-ascii characters from the 'texts' column in df.\n",
    "    It returns the words containig non-ascii characers.\n",
    "    \"\"\"\n",
    "    non_ascii_words = []\n",
    "    for i in range(len(df)):\n",
    "        for word in df.loc[i, 'excerpt'].split(' '):\n",
    "            if any([ord(character) >= 128 for character in word]):\n",
    "                non_ascii_words.append(word)\n",
    "                df.loc[i, 'excerpt'] = df.loc[i, 'excerpt'].replace(word, our_special_word)\n",
    "    return non_ascii_words"
   ]
  },
  {
   "cell_type": "code",
   "execution_count": 4,
   "id": "colored-wayne",
   "metadata": {
    "execution": {
     "iopub.execute_input": "2021-05-09T21:08:01.141435Z",
     "iopub.status.busy": "2021-05-09T21:08:01.140330Z",
     "iopub.status.idle": "2021-05-09T21:08:01.142653Z",
     "shell.execute_reply": "2021-05-09T21:08:01.143079Z"
    },
    "papermill": {
     "duration": 0.027552,
     "end_time": "2021-05-09T21:08:01.143251",
     "exception": false,
     "start_time": "2021-05-09T21:08:01.115699",
     "status": "completed"
    },
    "tags": []
   },
   "outputs": [],
   "source": [
    "# Non so se serva, ma si può modificare aggiungendo preprocessing ad-hoc\n",
    "def get_good_tokens(sentence):\n",
    "    replaced_punctation = list(map(lambda token: re.sub('[^0-9A-Za-z!?]+', '', token), sentence))\n",
    "    removed_punctation = list(filter(lambda token: token, replaced_punctation))\n",
    "    return removed_punctation"
   ]
  },
  {
   "cell_type": "code",
   "execution_count": 5,
   "id": "expensive-authentication",
   "metadata": {
    "execution": {
     "iopub.execute_input": "2021-05-09T21:08:01.186148Z",
     "iopub.status.busy": "2021-05-09T21:08:01.185246Z",
     "iopub.status.idle": "2021-05-09T21:08:01.191317Z",
     "shell.execute_reply": "2021-05-09T21:08:01.191754Z"
    },
    "papermill": {
     "duration": 0.028871,
     "end_time": "2021-05-09T21:08:01.191931",
     "exception": false,
     "start_time": "2021-05-09T21:08:01.163060",
     "status": "completed"
    },
    "tags": []
   },
   "outputs": [],
   "source": [
    "# Here we get transform the documents into sentences for the word2vecmodel\n",
    "# we made a function such that later on when we make the submission, we don't need to write duplicate code\n",
    "def w2v_preprocessing(df):\n",
    "    \"\"\" All the preprocessing steps for word2vec are done in this function.\n",
    "    All mutations are done on the dataframe itself. So this function returns\n",
    "    nothing.\n",
    "    \"\"\"\n",
    "    df['excerpt'] = df.excerpt.str.lower()\n",
    "    df['document_sentences'] = df.excerpt.str.split('.')  # split texts into individual sentences\n",
    "    df['tokenized_sentences'] = list(map(lambda sentences:\n",
    "                                         list(map(nltk.word_tokenize, sentences)),\n",
    "                                         df.document_sentences))  # tokenize sentences\n",
    "    df['tokenized_sentences'] = list(map(lambda sentences:\n",
    "                                         list(map(get_good_tokens, sentences)),\n",
    "                                         df.tokenized_sentences))  # remove unwanted characters\n",
    "    df['tokenized_sentences'] = list(map(lambda sentences:\n",
    "                                         list(filter(lambda lst: lst, sentences)),\n",
    "                                         df.tokenized_sentences))  # remove empty lists"
   ]
  },
  {
   "cell_type": "code",
   "execution_count": 6,
   "id": "palestinian-physiology",
   "metadata": {
    "execution": {
     "iopub.execute_input": "2021-05-09T21:08:01.233948Z",
     "iopub.status.busy": "2021-05-09T21:08:01.233032Z",
     "iopub.status.idle": "2021-05-09T21:08:01.391660Z",
     "shell.execute_reply": "2021-05-09T21:08:01.392223Z"
    },
    "papermill": {
     "duration": 0.181069,
     "end_time": "2021-05-09T21:08:01.392384",
     "exception": false,
     "start_time": "2021-05-09T21:08:01.211315",
     "status": "completed"
    },
    "tags": []
   },
   "outputs": [
    {
     "data": {
      "text/html": [
       "<div>\n",
       "<style scoped>\n",
       "    .dataframe tbody tr th:only-of-type {\n",
       "        vertical-align: middle;\n",
       "    }\n",
       "\n",
       "    .dataframe tbody tr th {\n",
       "        vertical-align: top;\n",
       "    }\n",
       "\n",
       "    .dataframe thead th {\n",
       "        text-align: right;\n",
       "    }\n",
       "</style>\n",
       "<table border=\"1\" class=\"dataframe\">\n",
       "  <thead>\n",
       "    <tr style=\"text-align: right;\">\n",
       "      <th></th>\n",
       "      <th>id</th>\n",
       "      <th>url_legal</th>\n",
       "      <th>license</th>\n",
       "      <th>excerpt</th>\n",
       "      <th>target</th>\n",
       "      <th>standard_error</th>\n",
       "    </tr>\n",
       "  </thead>\n",
       "  <tbody>\n",
       "    <tr>\n",
       "      <th>0</th>\n",
       "      <td>c12129c31</td>\n",
       "      <td>NaN</td>\n",
       "      <td>NaN</td>\n",
       "      <td>When the young people returned to the ballroom...</td>\n",
       "      <td>-0.340259</td>\n",
       "      <td>0.464009</td>\n",
       "    </tr>\n",
       "    <tr>\n",
       "      <th>1</th>\n",
       "      <td>85aa80a4c</td>\n",
       "      <td>NaN</td>\n",
       "      <td>NaN</td>\n",
       "      <td>All through dinner time, Mrs. Fayre was somewh...</td>\n",
       "      <td>-0.315372</td>\n",
       "      <td>0.480805</td>\n",
       "    </tr>\n",
       "    <tr>\n",
       "      <th>2</th>\n",
       "      <td>b69ac6792</td>\n",
       "      <td>NaN</td>\n",
       "      <td>NaN</td>\n",
       "      <td>As Roger had predicted, the snow departed as q...</td>\n",
       "      <td>-0.580118</td>\n",
       "      <td>0.476676</td>\n",
       "    </tr>\n",
       "    <tr>\n",
       "      <th>3</th>\n",
       "      <td>dd1000b26</td>\n",
       "      <td>NaN</td>\n",
       "      <td>NaN</td>\n",
       "      <td>And outside before the palace a great garden w...</td>\n",
       "      <td>-1.054013</td>\n",
       "      <td>0.450007</td>\n",
       "    </tr>\n",
       "    <tr>\n",
       "      <th>4</th>\n",
       "      <td>37c1b32fb</td>\n",
       "      <td>NaN</td>\n",
       "      <td>NaN</td>\n",
       "      <td>Once upon a time there were Three Bears who li...</td>\n",
       "      <td>0.247197</td>\n",
       "      <td>0.510845</td>\n",
       "    </tr>\n",
       "  </tbody>\n",
       "</table>\n",
       "</div>"
      ],
      "text/plain": [
       "          id url_legal license  \\\n",
       "0  c12129c31       NaN     NaN   \n",
       "1  85aa80a4c       NaN     NaN   \n",
       "2  b69ac6792       NaN     NaN   \n",
       "3  dd1000b26       NaN     NaN   \n",
       "4  37c1b32fb       NaN     NaN   \n",
       "\n",
       "                                             excerpt    target  standard_error  \n",
       "0  When the young people returned to the ballroom... -0.340259        0.464009  \n",
       "1  All through dinner time, Mrs. Fayre was somewh... -0.315372        0.480805  \n",
       "2  As Roger had predicted, the snow departed as q... -0.580118        0.476676  \n",
       "3  And outside before the palace a great garden w... -1.054013        0.450007  \n",
       "4  Once upon a time there were Three Bears who li...  0.247197        0.510845  "
      ]
     },
     "execution_count": 6,
     "metadata": {},
     "output_type": "execute_result"
    }
   ],
   "source": [
    "train_data =  pd.read_csv(\"/kaggle/input/commonlitreadabilityprize/train.csv\")\n",
    "train_data.head()"
   ]
  },
  {
   "cell_type": "code",
   "execution_count": 7,
   "id": "brazilian-collar",
   "metadata": {
    "execution": {
     "iopub.execute_input": "2021-05-09T21:08:01.435180Z",
     "iopub.status.busy": "2021-05-09T21:08:01.434256Z",
     "iopub.status.idle": "2021-05-09T21:08:02.381036Z",
     "shell.execute_reply": "2021-05-09T21:08:02.380416Z"
    },
    "papermill": {
     "duration": 0.969326,
     "end_time": "2021-05-09T21:08:02.381180",
     "exception": false,
     "start_time": "2021-05-09T21:08:01.411854",
     "status": "completed"
    },
    "tags": []
   },
   "outputs": [
    {
     "name": "stdout",
     "output_type": "stream",
     "text": [
      "Replaced 1327 words with characters with an ordinal >= 128 in the test data.\n"
     ]
    }
   ],
   "source": [
    "train_data.excerpt = train_data['excerpt'].apply(str)\n",
    "non_ascii_words = remove_ascii_words(train_data)\n",
    "\n",
    "print(\"Replaced {} words with characters with an ordinal >= 128 in the test data.\".format(\n",
    "    len(non_ascii_words)))"
   ]
  },
  {
   "cell_type": "code",
   "execution_count": 8,
   "id": "careful-average",
   "metadata": {
    "execution": {
     "iopub.execute_input": "2021-05-09T21:08:02.427952Z",
     "iopub.status.busy": "2021-05-09T21:08:02.427250Z",
     "iopub.status.idle": "2021-05-09T21:09:04.118991Z",
     "shell.execute_reply": "2021-05-09T21:09:04.118432Z"
    },
    "papermill": {
     "duration": 61.716672,
     "end_time": "2021-05-09T21:09:04.119167",
     "exception": false,
     "start_time": "2021-05-09T21:08:02.402495",
     "status": "completed"
    },
    "tags": []
   },
   "outputs": [],
   "source": [
    "# Pretrained W2V on Google News\n",
    "#W2Vmodel = api.load('word2vec-google-news-300')\n",
    "W2Vmodel = KeyedVectors.load_word2vec_format(\"/kaggle/input/w2v-pretrained/GoogleNews-vectors-negative300.bin\", binary = True)"
   ]
  },
  {
   "cell_type": "code",
   "execution_count": 9,
   "id": "coated-jumping",
   "metadata": {
    "execution": {
     "iopub.execute_input": "2021-05-09T21:09:04.234409Z",
     "iopub.status.busy": "2021-05-09T21:09:04.233690Z",
     "iopub.status.idle": "2021-05-09T21:09:08.974010Z",
     "shell.execute_reply": "2021-05-09T21:09:08.973496Z"
    },
    "papermill": {
     "duration": 4.834114,
     "end_time": "2021-05-09T21:09:08.974159",
     "exception": false,
     "start_time": "2021-05-09T21:09:04.140045",
     "status": "completed"
    },
    "tags": []
   },
   "outputs": [],
   "source": [
    "w2v_preprocessing(train_data)"
   ]
  },
  {
   "cell_type": "code",
   "execution_count": 10,
   "id": "solar-impression",
   "metadata": {
    "execution": {
     "iopub.execute_input": "2021-05-09T21:09:09.022612Z",
     "iopub.status.busy": "2021-05-09T21:09:09.021998Z",
     "iopub.status.idle": "2021-05-09T21:09:09.050284Z",
     "shell.execute_reply": "2021-05-09T21:09:09.049704Z"
    },
    "papermill": {
     "duration": 0.055711,
     "end_time": "2021-05-09T21:09:09.050436",
     "exception": false,
     "start_time": "2021-05-09T21:09:08.994725",
     "status": "completed"
    },
    "tags": []
   },
   "outputs": [],
   "source": [
    "train_data.drop(train_data[train_data.tokenized_sentences.str.len() == 0].index, inplace= True) "
   ]
  },
  {
   "cell_type": "code",
   "execution_count": 11,
   "id": "closed-needle",
   "metadata": {
    "execution": {
     "iopub.execute_input": "2021-05-09T21:09:09.095577Z",
     "iopub.status.busy": "2021-05-09T21:09:09.094619Z",
     "iopub.status.idle": "2021-05-09T21:09:09.103352Z",
     "shell.execute_reply": "2021-05-09T21:09:09.102789Z"
    },
    "papermill": {
     "duration": 0.032396,
     "end_time": "2021-05-09T21:09:09.103491",
     "exception": false,
     "start_time": "2021-05-09T21:09:09.071095",
     "status": "completed"
    },
    "tags": []
   },
   "outputs": [
    {
     "name": "stdout",
     "output_type": "stream",
     "text": [
      "Number of sentences: 25633.\n",
      "Number of texts: 2834.\n"
     ]
    }
   ],
   "source": [
    "#create dictionary with all sentences\n",
    "sentences = []\n",
    "for sentence_group in train_data.tokenized_sentences:\n",
    "    sentences.extend(sentence_group)\n",
    "\n",
    "print(\"Number of sentences: {}.\".format(len(sentences)))\n",
    "print(\"Number of texts: {}.\".format(len(train_data)))"
   ]
  },
  {
   "cell_type": "code",
   "execution_count": 12,
   "id": "spread-bennett",
   "metadata": {
    "execution": {
     "iopub.execute_input": "2021-05-09T21:09:09.149526Z",
     "iopub.status.busy": "2021-05-09T21:09:09.148881Z",
     "iopub.status.idle": "2021-05-09T21:09:09.154431Z",
     "shell.execute_reply": "2021-05-09T21:09:09.155026Z"
    },
    "papermill": {
     "duration": 0.030717,
     "end_time": "2021-05-09T21:09:09.155202",
     "exception": false,
     "start_time": "2021-05-09T21:09:09.124485",
     "status": "completed"
    },
    "tags": []
   },
   "outputs": [],
   "source": [
    "def get_w2v_features(w2v_model, sentence_group):\n",
    "    \"\"\" Transform a sentence_group (containing multiple lists\n",
    "    of words) into a feature vector. It averages out all the\n",
    "    word vectors of the sentence_group.\n",
    "    \"\"\"\n",
    "    words = np.concatenate(sentence_group)  # words in text\n",
    "    index2word_set = set(w2v_model.index_to_key) # set(w2v_model.wv.vocab.keys())  # words known to model\n",
    "    \n",
    "    featureVec = np.zeros(w2v_model.vector_size, dtype=\"float32\")\n",
    "    \n",
    "    # Initialize a counter for number of words in a review\n",
    "    nwords = 0\n",
    "    # Loop over each word in the comment and, if it is in the model's vocabulary, add its feature vector to the total\n",
    "    for word in words:\n",
    "        if word in index2word_set: \n",
    "            featureVec = np.add(featureVec, w2v_model[word])\n",
    "            nwords += 1.\n",
    "\n",
    "    # Divide the result by the number of words to get the average\n",
    "    if nwords > 0:\n",
    "        featureVec = np.divide(featureVec, nwords)\n",
    "    return featureVec"
   ]
  },
  {
   "cell_type": "code",
   "execution_count": 13,
   "id": "electric-excuse",
   "metadata": {
    "execution": {
     "iopub.execute_input": "2021-05-09T21:09:09.200686Z",
     "iopub.status.busy": "2021-05-09T21:09:09.200101Z",
     "iopub.status.idle": "2021-05-09T21:37:44.966170Z",
     "shell.execute_reply": "2021-05-09T21:37:44.965167Z"
    },
    "papermill": {
     "duration": 1715.790279,
     "end_time": "2021-05-09T21:37:44.966527",
     "exception": false,
     "start_time": "2021-05-09T21:09:09.176248",
     "status": "completed"
    },
    "tags": []
   },
   "outputs": [],
   "source": [
    "train_data['w2v_features'] = list(map(lambda sen_group:\n",
    "                                     get_w2v_features(W2Vmodel, sen_group),\n",
    "                                     train_data.tokenized_sentences))"
   ]
  },
  {
   "cell_type": "code",
   "execution_count": 14,
   "id": "reflected-links",
   "metadata": {
    "execution": {
     "iopub.execute_input": "2021-05-09T21:37:45.025285Z",
     "iopub.status.busy": "2021-05-09T21:37:45.024325Z",
     "iopub.status.idle": "2021-05-09T21:37:45.028186Z",
     "shell.execute_reply": "2021-05-09T21:37:45.027640Z"
    },
    "papermill": {
     "duration": 0.037854,
     "end_time": "2021-05-09T21:37:45.028348",
     "exception": false,
     "start_time": "2021-05-09T21:37:44.990494",
     "status": "completed"
    },
    "tags": []
   },
   "outputs": [],
   "source": [
    "train_data[\"w2v_resh_features\"] = train_data[\"w2v_features\"].apply(lambda x : x.reshape(1,-1) )"
   ]
  },
  {
   "cell_type": "code",
   "execution_count": 15,
   "id": "comparative-publicity",
   "metadata": {
    "execution": {
     "iopub.execute_input": "2021-05-09T21:37:45.077386Z",
     "iopub.status.busy": "2021-05-09T21:37:45.076335Z",
     "iopub.status.idle": "2021-05-09T21:37:45.599389Z",
     "shell.execute_reply": "2021-05-09T21:37:45.598655Z"
    },
    "papermill": {
     "duration": 0.549983,
     "end_time": "2021-05-09T21:37:45.599538",
     "exception": false,
     "start_time": "2021-05-09T21:37:45.049555",
     "status": "completed"
    },
    "tags": []
   },
   "outputs": [],
   "source": [
    "arr_w2v = train_data.w2v_resh_features[0]\n",
    "for i in range(1, len(train_data)):\n",
    "    arr_w2v = np.vstack((arr_w2v, train_data.w2v_resh_features[i]))"
   ]
  },
  {
   "cell_type": "markdown",
   "id": "painted-fisher",
   "metadata": {
    "papermill": {
     "duration": 0.020601,
     "end_time": "2021-05-09T21:37:45.641487",
     "exception": false,
     "start_time": "2021-05-09T21:37:45.620886",
     "status": "completed"
    },
    "tags": []
   },
   "source": [
    "## Training Set (Text only)"
   ]
  },
  {
   "cell_type": "code",
   "execution_count": 16,
   "id": "chief-active",
   "metadata": {
    "execution": {
     "iopub.execute_input": "2021-05-09T21:37:45.696458Z",
     "iopub.status.busy": "2021-05-09T21:37:45.695507Z",
     "iopub.status.idle": "2021-05-09T21:37:45.698221Z",
     "shell.execute_reply": "2021-05-09T21:37:45.698654Z"
    },
    "papermill": {
     "duration": 0.036349,
     "end_time": "2021-05-09T21:37:45.698855",
     "exception": false,
     "start_time": "2021-05-09T21:37:45.662506",
     "status": "completed"
    },
    "tags": []
   },
   "outputs": [],
   "source": [
    "X_train = arr_w2v\n",
    "y_train = train_data[[\"target\", \"standard_error\"]].values"
   ]
  },
  {
   "cell_type": "markdown",
   "id": "olympic-modern",
   "metadata": {
    "papermill": {
     "duration": 0.021004,
     "end_time": "2021-05-09T21:37:45.740887",
     "exception": false,
     "start_time": "2021-05-09T21:37:45.719883",
     "status": "completed"
    },
    "tags": []
   },
   "source": [
    "### Regression on W2V\n",
    "Proviamo a vedere se le feature del W2V sono rilevanti per-se "
   ]
  },
  {
   "cell_type": "code",
   "execution_count": 17,
   "id": "thirty-bradford",
   "metadata": {
    "execution": {
     "iopub.execute_input": "2021-05-09T21:37:45.788176Z",
     "iopub.status.busy": "2021-05-09T21:37:45.787460Z",
     "iopub.status.idle": "2021-05-09T21:37:46.129041Z",
     "shell.execute_reply": "2021-05-09T21:37:46.128337Z"
    },
    "papermill": {
     "duration": 0.367073,
     "end_time": "2021-05-09T21:37:46.129195",
     "exception": false,
     "start_time": "2021-05-09T21:37:45.762122",
     "status": "completed"
    },
    "tags": []
   },
   "outputs": [],
   "source": [
    "import xgboost as xgb\n",
    "from sklearn.metrics import mean_squared_error as mse"
   ]
  },
  {
   "cell_type": "markdown",
   "id": "industrial-allergy",
   "metadata": {
    "papermill": {
     "duration": 0.02086,
     "end_time": "2021-05-09T21:37:46.171707",
     "exception": false,
     "start_time": "2021-05-09T21:37:46.150847",
     "status": "completed"
    },
    "tags": []
   },
   "source": [
    "### Augmenting W2V"
   ]
  },
  {
   "cell_type": "code",
   "execution_count": 18,
   "id": "manufactured-zimbabwe",
   "metadata": {
    "execution": {
     "iopub.execute_input": "2021-05-09T21:37:46.222000Z",
     "iopub.status.busy": "2021-05-09T21:37:46.221152Z",
     "iopub.status.idle": "2021-05-09T21:37:46.224108Z",
     "shell.execute_reply": "2021-05-09T21:37:46.224545Z"
    },
    "papermill": {
     "duration": 0.031724,
     "end_time": "2021-05-09T21:37:46.224715",
     "exception": false,
     "start_time": "2021-05-09T21:37:46.192991",
     "status": "completed"
    },
    "tags": []
   },
   "outputs": [],
   "source": [
    "def augment_train_w2v(X_train, y_train, y_std, times = 5):\n",
    "    \n",
    "    augmented_w2v_X = X_train.copy()\n",
    "    augmented_w2v_y = y_train.copy()\n",
    "    \n",
    "    for j in range(0, times - 1):\n",
    "        for i in range(0, X_train.shape[0]):\n",
    "        \n",
    "            new_w2v = X_train[i,:] + np.random.uniform(1,8)*1e-4*np.random.randn(300)       # np.random.uniform(1,8)*1e-3*np.random.randn(300)\n",
    "            augmented_w2v_X = np.vstack((augmented_w2v_X, new_w2v))\n",
    "            \n",
    "            new_y = y_train[i] + np.random.choice([-1, 1])*y_std[i]*0.05\n",
    "            augmented_w2v_y = np.append(augmented_w2v_y, new_y)\n",
    "        \n",
    "    return augmented_w2v_X, augmented_w2v_y"
   ]
  },
  {
   "cell_type": "code",
   "execution_count": 19,
   "id": "brief-tuner",
   "metadata": {
    "execution": {
     "iopub.execute_input": "2021-05-09T21:37:46.285190Z",
     "iopub.status.busy": "2021-05-09T21:37:46.275610Z",
     "iopub.status.idle": "2021-05-09T21:39:04.449364Z",
     "shell.execute_reply": "2021-05-09T21:39:04.448657Z"
    },
    "papermill": {
     "duration": 78.203467,
     "end_time": "2021-05-09T21:39:04.449532",
     "exception": false,
     "start_time": "2021-05-09T21:37:46.246065",
     "status": "completed"
    },
    "tags": []
   },
   "outputs": [],
   "source": [
    "aug_X_train, aug_Y_train = augment_train_w2v(X_train, y_train[:,0], y_train[:,1], times = 5)"
   ]
  },
  {
   "cell_type": "code",
   "execution_count": 20,
   "id": "alleged-executive",
   "metadata": {
    "execution": {
     "iopub.execute_input": "2021-05-09T21:39:04.498698Z",
     "iopub.status.busy": "2021-05-09T21:39:04.497864Z",
     "iopub.status.idle": "2021-05-09T21:39:04.500571Z",
     "shell.execute_reply": "2021-05-09T21:39:04.501089Z"
    },
    "papermill": {
     "duration": 0.029934,
     "end_time": "2021-05-09T21:39:04.501270",
     "exception": false,
     "start_time": "2021-05-09T21:39:04.471336",
     "status": "completed"
    },
    "tags": []
   },
   "outputs": [],
   "source": [
    "def unison_shuffled_copies(a, b):\n",
    "    assert len(a) == len(b)\n",
    "    p = np.random.permutation(len(a))\n",
    "    return a[p], b[p]"
   ]
  },
  {
   "cell_type": "code",
   "execution_count": 21,
   "id": "tested-watch",
   "metadata": {
    "execution": {
     "iopub.execute_input": "2021-05-09T21:39:04.547223Z",
     "iopub.status.busy": "2021-05-09T21:39:04.546600Z",
     "iopub.status.idle": "2021-05-09T21:39:04.567143Z",
     "shell.execute_reply": "2021-05-09T21:39:04.566526Z"
    },
    "papermill": {
     "duration": 0.044459,
     "end_time": "2021-05-09T21:39:04.567312",
     "exception": false,
     "start_time": "2021-05-09T21:39:04.522853",
     "status": "completed"
    },
    "tags": []
   },
   "outputs": [],
   "source": [
    "aug_X_train, aug_Y_train = unison_shuffled_copies(aug_X_train, aug_Y_train)"
   ]
  },
  {
   "cell_type": "code",
   "execution_count": 22,
   "id": "funky-champagne",
   "metadata": {
    "execution": {
     "iopub.execute_input": "2021-05-09T21:39:04.615817Z",
     "iopub.status.busy": "2021-05-09T21:39:04.615123Z",
     "iopub.status.idle": "2021-05-09T21:41:14.365663Z",
     "shell.execute_reply": "2021-05-09T21:41:14.366178Z"
    },
    "papermill": {
     "duration": 129.777488,
     "end_time": "2021-05-09T21:41:14.366368",
     "exception": false,
     "start_time": "2021-05-09T21:39:04.588880",
     "status": "completed"
    },
    "tags": []
   },
   "outputs": [
    {
     "data": {
      "text/plain": [
       "XGBRegressor(alpha=10, base_score=0.5, booster='gbtree', colsample_bylevel=1,\n",
       "             colsample_bynode=1, colsample_bytree=0.5, gamma=0, gpu_id=-1,\n",
       "             importance_type='gain', interaction_constraints='',\n",
       "             learning_rate=0.1, max_delta_step=0, max_depth=5,\n",
       "             min_child_weight=1, missing=nan, monotone_constraints='()',\n",
       "             n_estimators=1000, n_jobs=4, num_parallel_tree=1, random_state=0,\n",
       "             reg_alpha=10, reg_lambda=1, scale_pos_weight=1, subsample=1,\n",
       "             tree_method='exact', validate_parameters=1, verbosity=1)"
      ]
     },
     "execution_count": 22,
     "metadata": {},
     "output_type": "execute_result"
    }
   ],
   "source": [
    "xg_reg = xgb.XGBRegressor(objective ='reg:squarederror', colsample_bytree = 0.5, learning_rate = 0.1,\n",
    "                max_depth = 5, alpha = 10, n_estimators = 1000, verbosity = 1)\n",
    "\n",
    "xg_reg.fit(aug_X_train, aug_Y_train)"
   ]
  },
  {
   "cell_type": "markdown",
   "id": "terminal-graphic",
   "metadata": {
    "papermill": {
     "duration": 0.021821,
     "end_time": "2021-05-09T21:41:14.410041",
     "exception": false,
     "start_time": "2021-05-09T21:41:14.388220",
     "status": "completed"
    },
    "tags": []
   },
   "source": [
    "# Test Data"
   ]
  },
  {
   "cell_type": "code",
   "execution_count": 23,
   "id": "latin-moral",
   "metadata": {
    "execution": {
     "iopub.execute_input": "2021-05-09T21:41:14.458995Z",
     "iopub.status.busy": "2021-05-09T21:41:14.458301Z",
     "iopub.status.idle": "2021-05-09T21:41:14.478375Z",
     "shell.execute_reply": "2021-05-09T21:41:14.477844Z"
    },
    "papermill": {
     "duration": 0.046438,
     "end_time": "2021-05-09T21:41:14.478509",
     "exception": false,
     "start_time": "2021-05-09T21:41:14.432071",
     "status": "completed"
    },
    "tags": []
   },
   "outputs": [
    {
     "data": {
      "text/html": [
       "<div>\n",
       "<style scoped>\n",
       "    .dataframe tbody tr th:only-of-type {\n",
       "        vertical-align: middle;\n",
       "    }\n",
       "\n",
       "    .dataframe tbody tr th {\n",
       "        vertical-align: top;\n",
       "    }\n",
       "\n",
       "    .dataframe thead th {\n",
       "        text-align: right;\n",
       "    }\n",
       "</style>\n",
       "<table border=\"1\" class=\"dataframe\">\n",
       "  <thead>\n",
       "    <tr style=\"text-align: right;\">\n",
       "      <th></th>\n",
       "      <th>id</th>\n",
       "      <th>url_legal</th>\n",
       "      <th>license</th>\n",
       "      <th>excerpt</th>\n",
       "    </tr>\n",
       "  </thead>\n",
       "  <tbody>\n",
       "    <tr>\n",
       "      <th>0</th>\n",
       "      <td>c0f722661</td>\n",
       "      <td>NaN</td>\n",
       "      <td>NaN</td>\n",
       "      <td>My hope lay in Jack's promise that he would ke...</td>\n",
       "    </tr>\n",
       "    <tr>\n",
       "      <th>1</th>\n",
       "      <td>f0953f0a5</td>\n",
       "      <td>NaN</td>\n",
       "      <td>NaN</td>\n",
       "      <td>Dotty continued to go to Mrs. Gray's every nig...</td>\n",
       "    </tr>\n",
       "    <tr>\n",
       "      <th>2</th>\n",
       "      <td>0df072751</td>\n",
       "      <td>NaN</td>\n",
       "      <td>NaN</td>\n",
       "      <td>It was a bright and cheerful scene that greete...</td>\n",
       "    </tr>\n",
       "    <tr>\n",
       "      <th>3</th>\n",
       "      <td>04caf4e0c</td>\n",
       "      <td>https://en.wikipedia.org/wiki/Cell_division</td>\n",
       "      <td>CC BY-SA 3.0</td>\n",
       "      <td>Cell division is the process by which a parent...</td>\n",
       "    </tr>\n",
       "    <tr>\n",
       "      <th>4</th>\n",
       "      <td>0e63f8bea</td>\n",
       "      <td>https://en.wikipedia.org/wiki/Debugging</td>\n",
       "      <td>CC BY-SA 3.0</td>\n",
       "      <td>Debugging is the process of finding and resolv...</td>\n",
       "    </tr>\n",
       "  </tbody>\n",
       "</table>\n",
       "</div>"
      ],
      "text/plain": [
       "          id                                    url_legal       license  \\\n",
       "0  c0f722661                                          NaN           NaN   \n",
       "1  f0953f0a5                                          NaN           NaN   \n",
       "2  0df072751                                          NaN           NaN   \n",
       "3  04caf4e0c  https://en.wikipedia.org/wiki/Cell_division  CC BY-SA 3.0   \n",
       "4  0e63f8bea      https://en.wikipedia.org/wiki/Debugging  CC BY-SA 3.0   \n",
       "\n",
       "                                             excerpt  \n",
       "0  My hope lay in Jack's promise that he would ke...  \n",
       "1  Dotty continued to go to Mrs. Gray's every nig...  \n",
       "2  It was a bright and cheerful scene that greete...  \n",
       "3  Cell division is the process by which a parent...  \n",
       "4  Debugging is the process of finding and resolv...  "
      ]
     },
     "execution_count": 23,
     "metadata": {},
     "output_type": "execute_result"
    }
   ],
   "source": [
    "test_data =  pd.read_csv(\"/kaggle/input/commonlitreadabilityprize/test.csv\")\n",
    "test_data.head()"
   ]
  },
  {
   "cell_type": "code",
   "execution_count": 24,
   "id": "connected-triangle",
   "metadata": {
    "execution": {
     "iopub.execute_input": "2021-05-09T21:41:14.529246Z",
     "iopub.status.busy": "2021-05-09T21:41:14.528497Z",
     "iopub.status.idle": "2021-05-09T21:41:14.536382Z",
     "shell.execute_reply": "2021-05-09T21:41:14.536971Z"
    },
    "papermill": {
     "duration": 0.035058,
     "end_time": "2021-05-09T21:41:14.537149",
     "exception": false,
     "start_time": "2021-05-09T21:41:14.502091",
     "status": "completed"
    },
    "tags": []
   },
   "outputs": [
    {
     "name": "stdout",
     "output_type": "stream",
     "text": [
      "Replaced 0 words with characters with an ordinal >= 128 in the test data.\n"
     ]
    }
   ],
   "source": [
    "test_data.excerpt = test_data['excerpt'].apply(str)\n",
    "non_ascii_words = remove_ascii_words(test_data)\n",
    "\n",
    "print(\"Replaced {} words with characters with an ordinal >= 128 in the test data.\".format(\n",
    "    len(non_ascii_words)))"
   ]
  },
  {
   "cell_type": "code",
   "execution_count": 25,
   "id": "reduced-gazette",
   "metadata": {
    "execution": {
     "iopub.execute_input": "2021-05-09T21:41:14.586063Z",
     "iopub.status.busy": "2021-05-09T21:41:14.585384Z",
     "iopub.status.idle": "2021-05-09T21:41:14.604804Z",
     "shell.execute_reply": "2021-05-09T21:41:14.605309Z"
    },
    "papermill": {
     "duration": 0.045415,
     "end_time": "2021-05-09T21:41:14.605487",
     "exception": false,
     "start_time": "2021-05-09T21:41:14.560072",
     "status": "completed"
    },
    "tags": []
   },
   "outputs": [],
   "source": [
    "w2v_preprocessing(test_data)"
   ]
  },
  {
   "cell_type": "code",
   "execution_count": 26,
   "id": "earlier-printer",
   "metadata": {
    "execution": {
     "iopub.execute_input": "2021-05-09T21:41:14.655566Z",
     "iopub.status.busy": "2021-05-09T21:41:14.654646Z",
     "iopub.status.idle": "2021-05-09T21:41:14.661494Z",
     "shell.execute_reply": "2021-05-09T21:41:14.661943Z"
    },
    "papermill": {
     "duration": 0.033693,
     "end_time": "2021-05-09T21:41:14.662121",
     "exception": false,
     "start_time": "2021-05-09T21:41:14.628428",
     "status": "completed"
    },
    "tags": []
   },
   "outputs": [],
   "source": [
    "test_data.drop(test_data[test_data.tokenized_sentences.str.len() == 0].index, inplace= True) "
   ]
  },
  {
   "cell_type": "code",
   "execution_count": 27,
   "id": "confidential-wisdom",
   "metadata": {
    "execution": {
     "iopub.execute_input": "2021-05-09T21:41:14.712781Z",
     "iopub.status.busy": "2021-05-09T21:41:14.711785Z",
     "iopub.status.idle": "2021-05-09T21:41:14.718724Z",
     "shell.execute_reply": "2021-05-09T21:41:14.719203Z"
    },
    "papermill": {
     "duration": 0.034405,
     "end_time": "2021-05-09T21:41:14.719366",
     "exception": false,
     "start_time": "2021-05-09T21:41:14.684961",
     "status": "completed"
    },
    "tags": []
   },
   "outputs": [
    {
     "name": "stdout",
     "output_type": "stream",
     "text": [
      "Number of sentences: 25633.\n",
      "Number of texts: 7.\n"
     ]
    }
   ],
   "source": [
    "#create dictionary with all sentences\n",
    "sentences_test = []\n",
    "for sentence_group in test_data.tokenized_sentences:\n",
    "    sentences_test.extend(sentence_group)\n",
    "\n",
    "print(\"Number of sentences: {}.\".format(len(sentences)))\n",
    "print(\"Number of texts: {}.\".format(len(test_data)))"
   ]
  },
  {
   "cell_type": "code",
   "execution_count": 28,
   "id": "respective-compound",
   "metadata": {
    "execution": {
     "iopub.execute_input": "2021-05-09T21:41:14.769340Z",
     "iopub.status.busy": "2021-05-09T21:41:14.768459Z",
     "iopub.status.idle": "2021-05-09T21:41:19.195821Z",
     "shell.execute_reply": "2021-05-09T21:41:19.196257Z"
    },
    "papermill": {
     "duration": 4.453632,
     "end_time": "2021-05-09T21:41:19.196457",
     "exception": false,
     "start_time": "2021-05-09T21:41:14.742825",
     "status": "completed"
    },
    "tags": []
   },
   "outputs": [],
   "source": [
    "test_data['w2v_features'] = list(map(lambda sen_group:\n",
    "                                     get_w2v_features(W2Vmodel, sen_group),\n",
    "                                     test_data.tokenized_sentences))"
   ]
  },
  {
   "cell_type": "code",
   "execution_count": 29,
   "id": "available-packet",
   "metadata": {
    "execution": {
     "iopub.execute_input": "2021-05-09T21:41:19.247194Z",
     "iopub.status.busy": "2021-05-09T21:41:19.246246Z",
     "iopub.status.idle": "2021-05-09T21:41:19.251951Z",
     "shell.execute_reply": "2021-05-09T21:41:19.252382Z"
    },
    "papermill": {
     "duration": 0.032908,
     "end_time": "2021-05-09T21:41:19.252582",
     "exception": false,
     "start_time": "2021-05-09T21:41:19.219674",
     "status": "completed"
    },
    "tags": []
   },
   "outputs": [],
   "source": [
    "test_data[\"w2v_resh_features\"] = test_data[\"w2v_features\"].apply(lambda x : x.reshape(1,-1) )"
   ]
  },
  {
   "cell_type": "code",
   "execution_count": 30,
   "id": "failing-virgin",
   "metadata": {
    "execution": {
     "iopub.execute_input": "2021-05-09T21:41:19.303485Z",
     "iopub.status.busy": "2021-05-09T21:41:19.302725Z",
     "iopub.status.idle": "2021-05-09T21:41:19.307492Z",
     "shell.execute_reply": "2021-05-09T21:41:19.307990Z"
    },
    "papermill": {
     "duration": 0.031939,
     "end_time": "2021-05-09T21:41:19.308177",
     "exception": false,
     "start_time": "2021-05-09T21:41:19.276238",
     "status": "completed"
    },
    "tags": []
   },
   "outputs": [],
   "source": [
    "arr_w2v_test = test_data.w2v_resh_features[0]\n",
    "for i in range(1, len(test_data)):\n",
    "    arr_w2v_test = np.vstack((arr_w2v_test, test_data.w2v_resh_features[i]))"
   ]
  },
  {
   "cell_type": "code",
   "execution_count": 31,
   "id": "conditional-facility",
   "metadata": {
    "execution": {
     "iopub.execute_input": "2021-05-09T21:41:19.358858Z",
     "iopub.status.busy": "2021-05-09T21:41:19.358290Z",
     "iopub.status.idle": "2021-05-09T21:41:19.371837Z",
     "shell.execute_reply": "2021-05-09T21:41:19.372269Z"
    },
    "papermill": {
     "duration": 0.040479,
     "end_time": "2021-05-09T21:41:19.372446",
     "exception": false,
     "start_time": "2021-05-09T21:41:19.331967",
     "status": "completed"
    },
    "tags": []
   },
   "outputs": [],
   "source": [
    "y_test = xg_reg.predict(arr_w2v_test)"
   ]
  },
  {
   "cell_type": "code",
   "execution_count": 32,
   "id": "informative-plaintiff",
   "metadata": {
    "execution": {
     "iopub.execute_input": "2021-05-09T21:41:19.430333Z",
     "iopub.status.busy": "2021-05-09T21:41:19.429497Z",
     "iopub.status.idle": "2021-05-09T21:41:19.447089Z",
     "shell.execute_reply": "2021-05-09T21:41:19.446615Z"
    },
    "papermill": {
     "duration": 0.049837,
     "end_time": "2021-05-09T21:41:19.447230",
     "exception": false,
     "start_time": "2021-05-09T21:41:19.397393",
     "status": "completed"
    },
    "tags": []
   },
   "outputs": [
    {
     "data": {
      "text/html": [
       "<div>\n",
       "<style scoped>\n",
       "    .dataframe tbody tr th:only-of-type {\n",
       "        vertical-align: middle;\n",
       "    }\n",
       "\n",
       "    .dataframe tbody tr th {\n",
       "        vertical-align: top;\n",
       "    }\n",
       "\n",
       "    .dataframe thead th {\n",
       "        text-align: right;\n",
       "    }\n",
       "</style>\n",
       "<table border=\"1\" class=\"dataframe\">\n",
       "  <thead>\n",
       "    <tr style=\"text-align: right;\">\n",
       "      <th></th>\n",
       "      <th>id</th>\n",
       "      <th>target</th>\n",
       "    </tr>\n",
       "  </thead>\n",
       "  <tbody>\n",
       "    <tr>\n",
       "      <th>0</th>\n",
       "      <td>c0f722661</td>\n",
       "      <td>-0.939920</td>\n",
       "    </tr>\n",
       "    <tr>\n",
       "      <th>1</th>\n",
       "      <td>f0953f0a5</td>\n",
       "      <td>-0.403884</td>\n",
       "    </tr>\n",
       "    <tr>\n",
       "      <th>2</th>\n",
       "      <td>0df072751</td>\n",
       "      <td>-0.675970</td>\n",
       "    </tr>\n",
       "    <tr>\n",
       "      <th>3</th>\n",
       "      <td>04caf4e0c</td>\n",
       "      <td>-2.002202</td>\n",
       "    </tr>\n",
       "    <tr>\n",
       "      <th>4</th>\n",
       "      <td>0e63f8bea</td>\n",
       "      <td>-1.977105</td>\n",
       "    </tr>\n",
       "    <tr>\n",
       "      <th>5</th>\n",
       "      <td>12537fe78</td>\n",
       "      <td>-0.980310</td>\n",
       "    </tr>\n",
       "    <tr>\n",
       "      <th>6</th>\n",
       "      <td>965e592c0</td>\n",
       "      <td>0.138798</td>\n",
       "    </tr>\n",
       "  </tbody>\n",
       "</table>\n",
       "</div>"
      ],
      "text/plain": [
       "          id    target\n",
       "0  c0f722661 -0.939920\n",
       "1  f0953f0a5 -0.403884\n",
       "2  0df072751 -0.675970\n",
       "3  04caf4e0c -2.002202\n",
       "4  0e63f8bea -1.977105\n",
       "5  12537fe78 -0.980310\n",
       "6  965e592c0  0.138798"
      ]
     },
     "execution_count": 32,
     "metadata": {},
     "output_type": "execute_result"
    }
   ],
   "source": [
    "predictions = pd.DataFrame()\n",
    "predictions['id'] = test_data['id']\n",
    "predictions['target'] = y_test\n",
    "predictions.to_csv(\"submission.csv\", index=False)\n",
    "predictions"
   ]
  },
  {
   "cell_type": "code",
   "execution_count": 33,
   "id": "vulnerable-hebrew",
   "metadata": {
    "execution": {
     "iopub.execute_input": "2021-05-09T21:41:19.500770Z",
     "iopub.status.busy": "2021-05-09T21:41:19.500039Z",
     "iopub.status.idle": "2021-05-09T21:41:20.395018Z",
     "shell.execute_reply": "2021-05-09T21:41:20.394028Z"
    },
    "papermill": {
     "duration": 0.923752,
     "end_time": "2021-05-09T21:41:20.395170",
     "exception": false,
     "start_time": "2021-05-09T21:41:19.471418",
     "status": "completed"
    },
    "tags": []
   },
   "outputs": [
    {
     "name": "stdout",
     "output_type": "stream",
     "text": [
      "__notebook__.ipynb  submission.csv\r\n"
     ]
    }
   ],
   "source": [
    "!ls"
   ]
  },
  {
   "cell_type": "code",
   "execution_count": null,
   "id": "respected-cookie",
   "metadata": {
    "papermill": {
     "duration": 0.024117,
     "end_time": "2021-05-09T21:41:20.443600",
     "exception": false,
     "start_time": "2021-05-09T21:41:20.419483",
     "status": "completed"
    },
    "tags": []
   },
   "outputs": [],
   "source": []
  }
 ],
 "metadata": {
  "kernelspec": {
   "display_name": "Python 3",
   "language": "python",
   "name": "python3"
  },
  "language_info": {
   "codemirror_mode": {
    "name": "ipython",
    "version": 3
   },
   "file_extension": ".py",
   "mimetype": "text/x-python",
   "name": "python",
   "nbconvert_exporter": "python",
   "pygments_lexer": "ipython3",
   "version": "3.7.10"
  },
  "papermill": {
   "default_parameters": {},
   "duration": 2011.734086,
   "end_time": "2021-05-09T21:41:22.860251",
   "environment_variables": {},
   "exception": null,
   "input_path": "__notebook__.ipynb",
   "output_path": "__notebook__.ipynb",
   "parameters": {},
   "start_time": "2021-05-09T21:07:51.126165",
   "version": "2.3.3"
  }
 },
 "nbformat": 4,
 "nbformat_minor": 5
}
