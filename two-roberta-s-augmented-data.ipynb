{
 "cells": [
  {
   "cell_type": "markdown",
   "id": "intense-worst",
   "metadata": {
    "papermill": {
     "duration": 0.015006,
     "end_time": "2021-05-31T23:28:11.501347",
     "exception": false,
     "start_time": "2021-05-31T23:28:11.486341",
     "status": "completed"
    },
    "tags": []
   },
   "source": [
    "## A simple average of my two previous kernels\n",
    "\n",
    "1. RoBERTa-Base -> [CommonLit Readability Prize - RoBERTa Torch|Infer](https://www.kaggle.com/rhtsingh/commonlit-readability-prize-roberta-torch-infer)\n",
    "\n",
    "2. RoBERTa-Large -> [CommonLit Readability Prize-RoBERTa Torch|Infer 2](https://www.kaggle.com/rhtsingh/commonlit-readability-prize-roberta-torch-infer-2)\n",
    "\n",
    "### P.S. What's Coming Soon -   \n",
    "1. [CommonLit Readability Prize - RoBERTa Torch|FIT](https://www.kaggle.com/rhtsingh/commonlit-readability-prize-roberta-torch-fit) fixed version.  \n",
    "2. **CommonLit Readability Prize - RoBERTa Torch|FIT 2** Dynamic Padding + Sequence Bucketing, Stochastic Weight Averaging, MIXOUT, Utilizing Different Transformer Layers (LSTM, Attention) **all in one kernel maybe**\n",
    "3. **Multi-Task Learning**  "
   ]
  },
  {
   "cell_type": "markdown",
   "id": "chemical-finger",
   "metadata": {
    "papermill": {
     "duration": 0.013665,
     "end_time": "2021-05-31T23:28:11.529298",
     "exception": false,
     "start_time": "2021-05-31T23:28:11.515633",
     "status": "completed"
    },
    "tags": []
   },
   "source": [
    "### Please upvote before Fork ;)"
   ]
  },
  {
   "cell_type": "markdown",
   "id": "thorough-senegal",
   "metadata": {
    "papermill": {
     "duration": 0.013688,
     "end_time": "2021-05-31T23:28:11.556878",
     "exception": false,
     "start_time": "2021-05-31T23:28:11.543190",
     "status": "completed"
    },
    "tags": []
   },
   "source": [
    "### Load Test Dataset"
   ]
  },
  {
   "cell_type": "code",
   "execution_count": 1,
   "id": "packed-surge",
   "metadata": {
    "execution": {
     "iopub.execute_input": "2021-05-31T23:28:11.596851Z",
     "iopub.status.busy": "2021-05-31T23:28:11.596317Z",
     "iopub.status.idle": "2021-05-31T23:28:11.670831Z",
     "shell.execute_reply": "2021-05-31T23:28:11.670263Z",
     "shell.execute_reply.started": "2021-05-25T12:47:43.055151Z"
    },
    "papermill": {
     "duration": 0.100088,
     "end_time": "2021-05-31T23:28:11.670966",
     "exception": false,
     "start_time": "2021-05-31T23:28:11.570878",
     "status": "completed"
    },
    "tags": []
   },
   "outputs": [],
   "source": [
    "import pandas as pd\n",
    "import numpy as np\n",
    "\n",
    "train = pd.read_csv('../input/commonlitreadabilityprize/train.csv')\n",
    "test = pd.read_csv('../input/commonlitreadabilityprize/test.csv')"
   ]
  },
  {
   "cell_type": "markdown",
   "id": "designing-netherlands",
   "metadata": {
    "papermill": {
     "duration": 0.013851,
     "end_time": "2021-05-31T23:28:11.699814",
     "exception": false,
     "start_time": "2021-05-31T23:28:11.685963",
     "status": "completed"
    },
    "tags": []
   },
   "source": [
    "### Import Dependencies"
   ]
  },
  {
   "cell_type": "code",
   "execution_count": 2,
   "id": "funny-pickup",
   "metadata": {
    "execution": {
     "iopub.execute_input": "2021-05-31T23:28:11.734601Z",
     "iopub.status.busy": "2021-05-31T23:28:11.733417Z",
     "iopub.status.idle": "2021-05-31T23:28:11.735827Z",
     "shell.execute_reply": "2021-05-31T23:28:11.736187Z",
     "shell.execute_reply.started": "2021-05-25T12:47:43.136128Z"
    },
    "papermill": {
     "duration": 0.022612,
     "end_time": "2021-05-31T23:28:11.736307",
     "exception": false,
     "start_time": "2021-05-31T23:28:11.713695",
     "status": "completed"
    },
    "tags": []
   },
   "outputs": [],
   "source": [
    "%matplotlib inline\n",
    "from glob import glob\n",
    "import os\n",
    "import matplotlib.pyplot as plt\n",
    "import json\n",
    "from collections import defaultdict\n",
    "import gc\n",
    "gc.enable()"
   ]
  },
  {
   "cell_type": "code",
   "execution_count": 3,
   "id": "curious-virgin",
   "metadata": {
    "execution": {
     "iopub.execute_input": "2021-05-31T23:28:11.769056Z",
     "iopub.status.busy": "2021-05-31T23:28:11.768371Z",
     "iopub.status.idle": "2021-05-31T23:28:18.571552Z",
     "shell.execute_reply": "2021-05-31T23:28:18.570442Z",
     "shell.execute_reply.started": "2021-05-25T12:47:43.145144Z"
    },
    "papermill": {
     "duration": 6.821643,
     "end_time": "2021-05-31T23:28:18.571687",
     "exception": false,
     "start_time": "2021-05-31T23:28:11.750044",
     "status": "completed"
    },
    "tags": []
   },
   "outputs": [],
   "source": [
    "import torch\n",
    "import torch.nn as nn\n",
    "import torch.nn.functional as F\n",
    "import torch.optim as optim\n",
    "from torch.optim.optimizer import Optimizer\n",
    "import torch.optim.lr_scheduler as lr_scheduler\n",
    "from torch.utils.data import (\n",
    "    Dataset, DataLoader, \n",
    "    SequentialSampler, RandomSampler\n",
    ")\n",
    "from transformers import RobertaConfig\n",
    "from transformers import (\n",
    "    get_cosine_schedule_with_warmup, \n",
    "    get_cosine_with_hard_restarts_schedule_with_warmup\n",
    ")\n",
    "from transformers import RobertaTokenizer\n",
    "from transformers import RobertaModel\n",
    "from IPython.display import clear_output\n",
    "from tqdm import tqdm, trange"
   ]
  },
  {
   "cell_type": "markdown",
   "id": "balanced-candidate",
   "metadata": {
    "papermill": {
     "duration": 0.013965,
     "end_time": "2021-05-31T23:28:18.600048",
     "exception": false,
     "start_time": "2021-05-31T23:28:18.586083",
     "status": "completed"
    },
    "tags": []
   },
   "source": [
    "### Convert Examples `(Excerpt)` to Features"
   ]
  },
  {
   "cell_type": "code",
   "execution_count": 4,
   "id": "understood-concern",
   "metadata": {
    "execution": {
     "iopub.execute_input": "2021-05-31T23:28:18.634564Z",
     "iopub.status.busy": "2021-05-31T23:28:18.633342Z",
     "iopub.status.idle": "2021-05-31T23:28:18.635995Z",
     "shell.execute_reply": "2021-05-31T23:28:18.635584Z",
     "shell.execute_reply.started": "2021-05-25T12:47:49.233977Z"
    },
    "papermill": {
     "duration": 0.022119,
     "end_time": "2021-05-31T23:28:18.636102",
     "exception": false,
     "start_time": "2021-05-31T23:28:18.613983",
     "status": "completed"
    },
    "tags": []
   },
   "outputs": [],
   "source": [
    "def convert_examples_to_features(data, tokenizer, max_len, is_test=False):\n",
    "    data = data.replace('\\n', '')\n",
    "    tok = tokenizer.encode_plus(\n",
    "        data, \n",
    "        max_length=max_len, \n",
    "        truncation=True,\n",
    "        return_attention_mask=True,\n",
    "        return_token_type_ids=True\n",
    "    )\n",
    "    curr_sent = {}\n",
    "    padding_length = max_len - len(tok['input_ids'])\n",
    "    curr_sent['input_ids'] = tok['input_ids'] + ([0] * padding_length)\n",
    "    curr_sent['token_type_ids'] = tok['token_type_ids'] + \\\n",
    "        ([0] * padding_length)\n",
    "    curr_sent['attention_mask'] = tok['attention_mask'] + \\\n",
    "        ([0] * padding_length)\n",
    "    return curr_sent"
   ]
  },
  {
   "cell_type": "markdown",
   "id": "infrared-handling",
   "metadata": {
    "papermill": {
     "duration": 0.013879,
     "end_time": "2021-05-31T23:28:18.663643",
     "exception": false,
     "start_time": "2021-05-31T23:28:18.649764",
     "status": "completed"
    },
    "tags": []
   },
   "source": [
    "### Dataset Retriever"
   ]
  },
  {
   "cell_type": "code",
   "execution_count": 5,
   "id": "injured-deposit",
   "metadata": {
    "execution": {
     "iopub.execute_input": "2021-05-31T23:28:18.701559Z",
     "iopub.status.busy": "2021-05-31T23:28:18.700340Z",
     "iopub.status.idle": "2021-05-31T23:28:18.703028Z",
     "shell.execute_reply": "2021-05-31T23:28:18.702622Z",
     "shell.execute_reply.started": "2021-05-25T12:47:49.243322Z"
    },
    "papermill": {
     "duration": 0.025459,
     "end_time": "2021-05-31T23:28:18.703133",
     "exception": false,
     "start_time": "2021-05-31T23:28:18.677674",
     "status": "completed"
    },
    "tags": []
   },
   "outputs": [],
   "source": [
    "class DatasetRetriever(Dataset):\n",
    "    def __init__(self, data, tokenizer, max_len, is_test=False):\n",
    "        self.data = data\n",
    "        self.excerpts = self.data.excerpt.values.tolist()\n",
    "        self.tokenizer = tokenizer\n",
    "        self.is_test = is_test\n",
    "        self.max_len = max_len\n",
    "    \n",
    "    def __len__(self):\n",
    "        return len(self.data)\n",
    "    \n",
    "    def __getitem__(self, item):\n",
    "        if not self.is_test:\n",
    "            excerpt, label = self.excerpts[item], self.targets[item]\n",
    "            features = convert_examples_to_features(\n",
    "                excerpt, self.tokenizer, \n",
    "                self.max_len, self.is_test\n",
    "            )\n",
    "            return {\n",
    "                'input_ids':torch.tensor(features['input_ids'], dtype=torch.long),\n",
    "                'token_type_ids':torch.tensor(features['token_type_ids'], dtype=torch.long),\n",
    "                'attention_mask':torch.tensor(features['attention_mask'], dtype=torch.long),\n",
    "                'label':torch.tensor(label, dtype=torch.double),\n",
    "            }\n",
    "        else:\n",
    "            excerpt = self.excerpts[item]\n",
    "            features = convert_examples_to_features(\n",
    "                excerpt, self.tokenizer, \n",
    "                self.max_len, self.is_test\n",
    "            )\n",
    "            return {\n",
    "                'input_ids':torch.tensor(features['input_ids'], dtype=torch.long),\n",
    "                'token_type_ids':torch.tensor(features['token_type_ids'], dtype=torch.long),\n",
    "                'attention_mask':torch.tensor(features['attention_mask'], dtype=torch.long),\n",
    "            }"
   ]
  },
  {
   "cell_type": "markdown",
   "id": "registered-appendix",
   "metadata": {
    "papermill": {
     "duration": 0.013625,
     "end_time": "2021-05-31T23:28:18.730556",
     "exception": false,
     "start_time": "2021-05-31T23:28:18.716931",
     "status": "completed"
    },
    "tags": []
   },
   "source": [
    "### Model"
   ]
  },
  {
   "cell_type": "code",
   "execution_count": 6,
   "id": "abstract-remains",
   "metadata": {
    "execution": {
     "iopub.execute_input": "2021-05-31T23:28:18.772498Z",
     "iopub.status.busy": "2021-05-31T23:28:18.771283Z",
     "iopub.status.idle": "2021-05-31T23:28:18.773983Z",
     "shell.execute_reply": "2021-05-31T23:28:18.773577Z",
     "shell.execute_reply.started": "2021-05-25T12:47:49.255821Z"
    },
    "papermill": {
     "duration": 0.029264,
     "end_time": "2021-05-31T23:28:18.774087",
     "exception": false,
     "start_time": "2021-05-31T23:28:18.744823",
     "status": "completed"
    },
    "tags": []
   },
   "outputs": [],
   "source": [
    "class CommonLitModel(nn.Module):\n",
    "    def __init__(\n",
    "        self, \n",
    "        model_name, \n",
    "        config,  \n",
    "        multisample_dropout=False,\n",
    "        output_hidden_states=False\n",
    "    ):\n",
    "        super(CommonLitModel, self).__init__()\n",
    "        self.config = config\n",
    "        self.roberta = RobertaModel.from_pretrained(\n",
    "            model_name, \n",
    "            output_hidden_states=output_hidden_states\n",
    "        )\n",
    "        self.layer_norm = nn.LayerNorm(config.hidden_size)\n",
    "        if multisample_dropout:\n",
    "            self.dropouts = nn.ModuleList([\n",
    "                nn.Dropout(0.5) for _ in range(5)\n",
    "            ])\n",
    "        else:\n",
    "            self.dropouts = nn.ModuleList([nn.Dropout(0.3)])\n",
    "        self.regressor = nn.Linear(config.hidden_size, 1)\n",
    "        self._init_weights(self.layer_norm)\n",
    "        self._init_weights(self.regressor)\n",
    " \n",
    "    def _init_weights(self, module):\n",
    "        if isinstance(module, nn.Linear):\n",
    "            module.weight.data.normal_(mean=0.0, std=self.config.initializer_range)\n",
    "            if module.bias is not None:\n",
    "                module.bias.data.zero_()\n",
    "        elif isinstance(module, nn.Embedding):\n",
    "            module.weight.data.normal_(mean=0.0, std=self.config.initializer_range)\n",
    "            if module.padding_idx is not None:\n",
    "                module.weight.data[module.padding_idx].zero_()\n",
    "        elif isinstance(module, nn.LayerNorm):\n",
    "            module.bias.data.zero_()\n",
    "            module.weight.data.fill_(1.0)\n",
    " \n",
    "    def forward(\n",
    "        self, \n",
    "        input_ids=None,\n",
    "        attention_mask=None,\n",
    "        token_type_ids=None,\n",
    "        labels=None\n",
    "    ):\n",
    "        outputs = self.roberta(\n",
    "            input_ids,\n",
    "            attention_mask=attention_mask,\n",
    "            token_type_ids=token_type_ids,\n",
    "        )\n",
    "        sequence_output = outputs[1]\n",
    "        sequence_output = self.layer_norm(sequence_output)\n",
    " \n",
    "        # multi-sample dropout\n",
    "        for i, dropout in enumerate(self.dropouts):\n",
    "            if i == 0:\n",
    "                logits = self.regressor(dropout(sequence_output))\n",
    "            else:\n",
    "                logits += self.regressor(dropout(sequence_output))\n",
    "        \n",
    "        logits /= len(self.dropouts)\n",
    " \n",
    "        # calculate loss\n",
    "        loss = None\n",
    "        if labels is not None:\n",
    "            loss_fn = torch.nn.MSELoss()\n",
    "            logits = logits.view(-1).to(labels.dtype)\n",
    "            loss = torch.sqrt(loss_fn(logits, labels.view(-1)))\n",
    "        \n",
    "        output = (logits,) + outputs[1:]\n",
    "        return ((loss,) + output) if loss is not None else output"
   ]
  },
  {
   "cell_type": "markdown",
   "id": "hispanic-publicity",
   "metadata": {
    "papermill": {
     "duration": 0.013674,
     "end_time": "2021-05-31T23:28:18.801501",
     "exception": false,
     "start_time": "2021-05-31T23:28:18.787827",
     "status": "completed"
    },
    "tags": []
   },
   "source": [
    "### Utils"
   ]
  },
  {
   "cell_type": "code",
   "execution_count": 7,
   "id": "normal-sheffield",
   "metadata": {
    "execution": {
     "iopub.execute_input": "2021-05-31T23:28:18.835952Z",
     "iopub.status.busy": "2021-05-31T23:28:18.834760Z",
     "iopub.status.idle": "2021-05-31T23:28:18.837375Z",
     "shell.execute_reply": "2021-05-31T23:28:18.836987Z",
     "shell.execute_reply.started": "2021-05-25T12:47:49.27287Z"
    },
    "papermill": {
     "duration": 0.021737,
     "end_time": "2021-05-31T23:28:18.837477",
     "exception": false,
     "start_time": "2021-05-31T23:28:18.815740",
     "status": "completed"
    },
    "tags": []
   },
   "outputs": [],
   "source": [
    "def make_model(model_name='roberta-large', num_labels=1):\n",
    "    tokenizer = RobertaTokenizer.from_pretrained(model_name)\n",
    "    config = RobertaConfig.from_pretrained(model_name)\n",
    "    config.update({'num_labels':num_labels})\n",
    "    model = CommonLitModel(model_name, config=config)\n",
    "    return model, tokenizer\n",
    "\n",
    "def make_loader(\n",
    "    data, \n",
    "    tokenizer, \n",
    "    max_len,\n",
    "    batch_size,\n",
    "):\n",
    "    \n",
    "    test_dataset = DatasetRetriever(data, tokenizer, max_len, is_test=True)\n",
    "    test_sampler = SequentialSampler(test_dataset)\n",
    "    test_loader = DataLoader(\n",
    "        test_dataset, \n",
    "        batch_size=batch_size // 2, \n",
    "        sampler=test_sampler, \n",
    "        pin_memory=False, \n",
    "        drop_last=False, \n",
    "        num_workers=0\n",
    "    )\n",
    "\n",
    "    return test_loader"
   ]
  },
  {
   "cell_type": "markdown",
   "id": "lovely-russian",
   "metadata": {
    "papermill": {
     "duration": 0.013968,
     "end_time": "2021-05-31T23:28:18.865240",
     "exception": false,
     "start_time": "2021-05-31T23:28:18.851272",
     "status": "completed"
    },
    "tags": []
   },
   "source": [
    "### Evaluator"
   ]
  },
  {
   "cell_type": "code",
   "execution_count": 8,
   "id": "geographic-pavilion",
   "metadata": {
    "execution": {
     "iopub.execute_input": "2021-05-31T23:28:18.900082Z",
     "iopub.status.busy": "2021-05-31T23:28:18.899457Z",
     "iopub.status.idle": "2021-05-31T23:28:18.902483Z",
     "shell.execute_reply": "2021-05-31T23:28:18.902854Z",
     "shell.execute_reply.started": "2021-05-25T12:47:49.284136Z"
    },
    "papermill": {
     "duration": 0.023856,
     "end_time": "2021-05-31T23:28:18.902970",
     "exception": false,
     "start_time": "2021-05-31T23:28:18.879114",
     "status": "completed"
    },
    "tags": []
   },
   "outputs": [],
   "source": [
    "class Evaluator:\n",
    "    def __init__(self, model, scalar=None):\n",
    "        self.model = model\n",
    "        self.scalar = scalar\n",
    "\n",
    "    def evaluate(self, data_loader, tokenizer):\n",
    "        preds = []\n",
    "        self.model.eval()\n",
    "        total_loss = 0\n",
    "        with torch.no_grad():\n",
    "            for batch_idx, batch_data in enumerate(data_loader):\n",
    "                input_ids, attention_mask, token_type_ids = batch_data['input_ids'], \\\n",
    "                    batch_data['attention_mask'], batch_data['token_type_ids']\n",
    "                input_ids, attention_mask, token_type_ids = input_ids.cuda(), \\\n",
    "                    attention_mask.cuda(), token_type_ids.cuda()\n",
    "                \n",
    "                if self.scalar is not None:\n",
    "                    with torch.cuda.amp.autocast():\n",
    "                        outputs = self.model(\n",
    "                            input_ids=input_ids,\n",
    "                            attention_mask=attention_mask,\n",
    "                            token_type_ids=token_type_ids\n",
    "                        )\n",
    "                else:\n",
    "                    outputs = self.model(\n",
    "                        input_ids=input_ids,\n",
    "                        attention_mask=attention_mask,\n",
    "                        token_type_ids=token_type_ids\n",
    "                    )\n",
    "                \n",
    "                logits = outputs[0].detach().cpu().numpy().squeeze().tolist()\n",
    "                preds += logits\n",
    "        return preds"
   ]
  },
  {
   "cell_type": "markdown",
   "id": "generous-message",
   "metadata": {
    "papermill": {
     "duration": 0.013803,
     "end_time": "2021-05-31T23:28:18.930464",
     "exception": false,
     "start_time": "2021-05-31T23:28:18.916661",
     "status": "completed"
    },
    "tags": []
   },
   "source": [
    "### Config"
   ]
  },
  {
   "cell_type": "code",
   "execution_count": 9,
   "id": "beginning-surfing",
   "metadata": {
    "execution": {
     "iopub.execute_input": "2021-05-31T23:28:18.965230Z",
     "iopub.status.busy": "2021-05-31T23:28:18.964035Z",
     "iopub.status.idle": "2021-05-31T23:28:18.966342Z",
     "shell.execute_reply": "2021-05-31T23:28:18.966686Z",
     "shell.execute_reply.started": "2021-05-25T12:48:27.15988Z"
    },
    "papermill": {
     "duration": 0.022474,
     "end_time": "2021-05-31T23:28:18.966818",
     "exception": false,
     "start_time": "2021-05-31T23:28:18.944344",
     "status": "completed"
    },
    "tags": []
   },
   "outputs": [],
   "source": [
    " def config(fold, model_name, load_model_path):\n",
    "    torch.manual_seed(2021)\n",
    "    torch.cuda.manual_seed(2021)\n",
    "    torch.cuda.manual_seed_all(2021)\n",
    "    \n",
    "    max_len = 250\n",
    "    batch_size = 8\n",
    "\n",
    "    model, tokenizer = make_model(\n",
    "        model_name=model_name, \n",
    "        num_labels=1\n",
    "    )\n",
    "    model.load_state_dict(\n",
    "        torch.load(f'{load_model_path}/model{fold}.bin')\n",
    "    )\n",
    "    test_loader = make_loader(\n",
    "        test, tokenizer, max_len=max_len,\n",
    "        batch_size=batch_size\n",
    "    )\n",
    "\n",
    "    if torch.cuda.device_count() >= 1:\n",
    "        print('Model pushed to {} GPU(s), type {}.'.format(\n",
    "            torch.cuda.device_count(), \n",
    "            torch.cuda.get_device_name(0))\n",
    "        )\n",
    "        model = model.cuda() \n",
    "    else:\n",
    "        raise ValueError('CPU training is not supported')\n",
    "\n",
    "    # scaler = torch.cuda.amp.GradScaler()\n",
    "    scaler = None\n",
    "    return (\n",
    "        model, tokenizer, \n",
    "        test_loader, scaler\n",
    "    )"
   ]
  },
  {
   "cell_type": "markdown",
   "id": "further-reasoning",
   "metadata": {
    "papermill": {
     "duration": 0.013617,
     "end_time": "2021-05-31T23:28:18.994120",
     "exception": false,
     "start_time": "2021-05-31T23:28:18.980503",
     "status": "completed"
    },
    "tags": []
   },
   "source": [
    "### Run"
   ]
  },
  {
   "cell_type": "code",
   "execution_count": 10,
   "id": "tropical-lambda",
   "metadata": {
    "execution": {
     "iopub.execute_input": "2021-05-31T23:28:19.027130Z",
     "iopub.status.busy": "2021-05-31T23:28:19.026474Z",
     "iopub.status.idle": "2021-05-31T23:28:19.030036Z",
     "shell.execute_reply": "2021-05-31T23:28:19.029528Z",
     "shell.execute_reply.started": "2021-05-25T12:49:17.10083Z"
    },
    "papermill": {
     "duration": 0.02222,
     "end_time": "2021-05-31T23:28:19.030136",
     "exception": false,
     "start_time": "2021-05-31T23:28:19.007916",
     "status": "completed"
    },
    "tags": []
   },
   "outputs": [],
   "source": [
    "def run(fold=0, model_name=None, load_model_path=None):\n",
    "    model, tokenizer, \\\n",
    "        test_loader, scaler = config(fold, model_name, load_model_path)\n",
    "    \n",
    "    import time\n",
    "\n",
    "    evaluator = Evaluator(model, scaler)\n",
    "\n",
    "    test_time_list = []\n",
    "\n",
    "    torch.cuda.synchronize()\n",
    "    tic1 = time.time()\n",
    "\n",
    "    preds = evaluator.evaluate(test_loader, tokenizer)\n",
    "\n",
    "    torch.cuda.synchronize()\n",
    "    tic2 = time.time() \n",
    "    test_time_list.append(tic2 - tic1)\n",
    "    \n",
    "    del model, tokenizer, test_loader, scaler\n",
    "    gc.collect()\n",
    "    torch.cuda.empty_cache()\n",
    "    \n",
    "    return preds"
   ]
  },
  {
   "cell_type": "code",
   "execution_count": 11,
   "id": "european-pharmacology",
   "metadata": {
    "execution": {
     "iopub.execute_input": "2021-05-31T23:28:19.062362Z",
     "iopub.status.busy": "2021-05-31T23:28:19.061873Z",
     "iopub.status.idle": "2021-05-31T23:31:12.577315Z",
     "shell.execute_reply": "2021-05-31T23:31:12.577693Z",
     "shell.execute_reply.started": "2021-05-25T12:50:19.668749Z"
    },
    "papermill": {
     "duration": 173.533919,
     "end_time": "2021-05-31T23:31:12.577870",
     "exception": false,
     "start_time": "2021-05-31T23:28:19.043951",
     "status": "completed"
    },
    "tags": []
   },
   "outputs": [
    {
     "name": "stderr",
     "output_type": "stream",
     "text": [
      "  0%|          | 0/5 [00:00<?, ?it/s]"
     ]
    },
    {
     "name": "stdout",
     "output_type": "stream",
     "text": [
      "Model pushed to 1 GPU(s), type Tesla P100-PCIE-16GB.\n",
      "Model pushed to 1 GPU(s), type Tesla P100-PCIE-16GB.\n"
     ]
    },
    {
     "name": "stderr",
     "output_type": "stream",
     "text": [
      " 20%|██        | 1/5 [00:54<03:36, 54.01s/it]"
     ]
    },
    {
     "name": "stdout",
     "output_type": "stream",
     "text": [
      "Model pushed to 1 GPU(s), type Tesla P100-PCIE-16GB.\n",
      "Model pushed to 1 GPU(s), type Tesla P100-PCIE-16GB.\n"
     ]
    },
    {
     "name": "stderr",
     "output_type": "stream",
     "text": [
      " 40%|████      | 2/5 [01:23<01:59, 39.78s/it]"
     ]
    },
    {
     "name": "stdout",
     "output_type": "stream",
     "text": [
      "Model pushed to 1 GPU(s), type Tesla P100-PCIE-16GB.\n",
      "Model pushed to 1 GPU(s), type Tesla P100-PCIE-16GB.\n"
     ]
    },
    {
     "name": "stderr",
     "output_type": "stream",
     "text": [
      " 60%|██████    | 3/5 [01:53<01:10, 35.02s/it]"
     ]
    },
    {
     "name": "stdout",
     "output_type": "stream",
     "text": [
      "Model pushed to 1 GPU(s), type Tesla P100-PCIE-16GB.\n",
      "Model pushed to 1 GPU(s), type Tesla P100-PCIE-16GB.\n"
     ]
    },
    {
     "name": "stderr",
     "output_type": "stream",
     "text": [
      " 80%|████████  | 4/5 [02:22<00:32, 32.90s/it]"
     ]
    },
    {
     "name": "stdout",
     "output_type": "stream",
     "text": [
      "Model pushed to 1 GPU(s), type Tesla P100-PCIE-16GB.\n",
      "Model pushed to 1 GPU(s), type Tesla P100-PCIE-16GB.\n"
     ]
    },
    {
     "name": "stderr",
     "output_type": "stream",
     "text": [
      "100%|██████████| 5/5 [02:53<00:00, 34.70s/it]\n"
     ]
    }
   ],
   "source": [
    "pred_df1 = pd.DataFrame()\n",
    "pred_df2 = pd.DataFrame()\n",
    "for fold in tqdm(range(5)):\n",
    "    pred_df1[f'fold{fold}'] = run(fold, '../input/roberta-base/', '../input/commonlit-roberta-base-i/')\n",
    "    pred_df2[f'fold{fold}'] = run(fold, '../input/robertalarge/', '../input/roberta-large-itptfit/')"
   ]
  },
  {
   "cell_type": "markdown",
   "id": "focused-gregory",
   "metadata": {
    "papermill": {
     "duration": 0.018757,
     "end_time": "2021-05-31T23:31:12.615592",
     "exception": false,
     "start_time": "2021-05-31T23:31:12.596835",
     "status": "completed"
    },
    "tags": []
   },
   "source": [
    "### Make Submission"
   ]
  },
  {
   "cell_type": "code",
   "execution_count": 12,
   "id": "unusual-ground",
   "metadata": {
    "execution": {
     "iopub.execute_input": "2021-05-31T23:31:12.660413Z",
     "iopub.status.busy": "2021-05-31T23:31:12.659929Z",
     "iopub.status.idle": "2021-05-31T23:31:12.934020Z",
     "shell.execute_reply": "2021-05-31T23:31:12.933565Z",
     "shell.execute_reply.started": "2021-05-25T13:05:42.66897Z"
    },
    "papermill": {
     "duration": 0.299304,
     "end_time": "2021-05-31T23:31:12.934142",
     "exception": false,
     "start_time": "2021-05-31T23:31:12.634838",
     "status": "completed"
    },
    "tags": []
   },
   "outputs": [],
   "source": [
    "sub = pd.read_csv('../input/commonlitreadabilityprize/sample_submission.csv')\n",
    "sub['target'] = ((pred_df1.mean(axis=1) + pred_df2.mean(axis=1))/2).values.tolist()\n",
    "sub.to_csv('submission.csv', index=False)"
   ]
  },
  {
   "cell_type": "code",
   "execution_count": 13,
   "id": "alike-paragraph",
   "metadata": {
    "execution": {
     "iopub.execute_input": "2021-05-31T23:31:12.981450Z",
     "iopub.status.busy": "2021-05-31T23:31:12.973695Z",
     "iopub.status.idle": "2021-05-31T23:31:12.988787Z",
     "shell.execute_reply": "2021-05-31T23:31:12.989181Z",
     "shell.execute_reply.started": "2021-05-25T13:05:44.920402Z"
    },
    "papermill": {
     "duration": 0.036219,
     "end_time": "2021-05-31T23:31:12.989297",
     "exception": false,
     "start_time": "2021-05-31T23:31:12.953078",
     "status": "completed"
    },
    "tags": []
   },
   "outputs": [
    {
     "data": {
      "text/html": [
       "<div>\n",
       "<style scoped>\n",
       "    .dataframe tbody tr th:only-of-type {\n",
       "        vertical-align: middle;\n",
       "    }\n",
       "\n",
       "    .dataframe tbody tr th {\n",
       "        vertical-align: top;\n",
       "    }\n",
       "\n",
       "    .dataframe thead th {\n",
       "        text-align: right;\n",
       "    }\n",
       "</style>\n",
       "<table border=\"1\" class=\"dataframe\">\n",
       "  <thead>\n",
       "    <tr style=\"text-align: right;\">\n",
       "      <th></th>\n",
       "      <th>id</th>\n",
       "      <th>target</th>\n",
       "    </tr>\n",
       "  </thead>\n",
       "  <tbody>\n",
       "    <tr>\n",
       "      <th>0</th>\n",
       "      <td>c0f722661</td>\n",
       "      <td>-0.411090</td>\n",
       "    </tr>\n",
       "    <tr>\n",
       "      <th>1</th>\n",
       "      <td>f0953f0a5</td>\n",
       "      <td>-0.595150</td>\n",
       "    </tr>\n",
       "    <tr>\n",
       "      <th>2</th>\n",
       "      <td>0df072751</td>\n",
       "      <td>-0.456749</td>\n",
       "    </tr>\n",
       "    <tr>\n",
       "      <th>3</th>\n",
       "      <td>04caf4e0c</td>\n",
       "      <td>-2.444959</td>\n",
       "    </tr>\n",
       "    <tr>\n",
       "      <th>4</th>\n",
       "      <td>0e63f8bea</td>\n",
       "      <td>-1.846508</td>\n",
       "    </tr>\n",
       "    <tr>\n",
       "      <th>5</th>\n",
       "      <td>12537fe78</td>\n",
       "      <td>-1.149551</td>\n",
       "    </tr>\n",
       "    <tr>\n",
       "      <th>6</th>\n",
       "      <td>965e592c0</td>\n",
       "      <td>0.153927</td>\n",
       "    </tr>\n",
       "  </tbody>\n",
       "</table>\n",
       "</div>"
      ],
      "text/plain": [
       "          id    target\n",
       "0  c0f722661 -0.411090\n",
       "1  f0953f0a5 -0.595150\n",
       "2  0df072751 -0.456749\n",
       "3  04caf4e0c -2.444959\n",
       "4  0e63f8bea -1.846508\n",
       "5  12537fe78 -1.149551\n",
       "6  965e592c0  0.153927"
      ]
     },
     "execution_count": 13,
     "metadata": {},
     "output_type": "execute_result"
    }
   ],
   "source": [
    "sub"
   ]
  }
 ],
 "metadata": {
  "kernelspec": {
   "display_name": "Python 3",
   "language": "python",
   "name": "python3"
  },
  "language_info": {
   "codemirror_mode": {
    "name": "ipython",
    "version": 3
   },
   "file_extension": ".py",
   "mimetype": "text/x-python",
   "name": "python",
   "nbconvert_exporter": "python",
   "pygments_lexer": "ipython3",
   "version": "3.7.10"
  },
  "papermill": {
   "default_parameters": {},
   "duration": 190.848459,
   "end_time": "2021-05-31T23:31:15.404035",
   "environment_variables": {},
   "exception": null,
   "input_path": "__notebook__.ipynb",
   "output_path": "__notebook__.ipynb",
   "parameters": {},
   "start_time": "2021-05-31T23:28:04.555576",
   "version": "2.3.3"
  }
 },
 "nbformat": 4,
 "nbformat_minor": 5
}
